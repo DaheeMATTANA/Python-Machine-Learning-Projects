{
 "cells": [
  {
   "cell_type": "markdown",
   "id": "623139f4",
   "metadata": {},
   "source": [
    "###### Credit : superdatascience.com"
   ]
  },
  {
   "cell_type": "markdown",
   "id": "f344050e",
   "metadata": {},
   "source": [
    "Cat or Dog Classification using Convolutional Neural Network Model"
   ]
  },
  {
   "cell_type": "code",
   "execution_count": 26,
   "id": "7635512d",
   "metadata": {},
   "outputs": [],
   "source": [
    "import tensorflow as tf\n",
    "from keras.preprocessing.image import ImageDataGenerator"
   ]
  },
  {
   "cell_type": "markdown",
   "id": "27593972",
   "metadata": {},
   "source": [
    "## Data & Preprocessing"
   ]
  },
  {
   "cell_type": "markdown",
   "id": "b6734191",
   "metadata": {},
   "source": [
    "##### Training Set"
   ]
  },
  {
   "cell_type": "code",
   "execution_count": 27,
   "id": "e95b3974",
   "metadata": {},
   "outputs": [],
   "source": [
    "# Transform all the images of the training set : to avoid over-fitting\n",
    "train_datagen = ImageDataGenerator(\n",
    "        rescale = 1./255,\n",
    "        shear_range = 0.2,\n",
    "        zoom_range = 0.2,\n",
    "        horizontal_flip = True)"
   ]
  },
  {
   "cell_type": "code",
   "execution_count": 28,
   "id": "1a8976dd",
   "metadata": {},
   "outputs": [
    {
     "name": "stdout",
     "output_type": "stream",
     "text": [
      "Found 8000 images belonging to 2 classes.\n"
     ]
    }
   ],
   "source": [
    "# import the training set by accessing the directory\n",
    "# resize to reduce computational power\n",
    "training_set = train_datagen.flow_from_directory(\n",
    "        'dataset/training_set',\n",
    "        target_size = (64, 64),\n",
    "        batch_size = 32,\n",
    "        class_mode = 'binary')"
   ]
  },
  {
   "cell_type": "markdown",
   "id": "d8f5baa6",
   "metadata": {},
   "source": [
    "##### Test Set"
   ]
  },
  {
   "cell_type": "code",
   "execution_count": 29,
   "id": "9f16de0d",
   "metadata": {},
   "outputs": [],
   "source": [
    "test_datagen = ImageDataGenerator(rescale = 1./255)    # No transformation on test set"
   ]
  },
  {
   "cell_type": "code",
   "execution_count": 30,
   "id": "a231ae98",
   "metadata": {},
   "outputs": [
    {
     "name": "stdout",
     "output_type": "stream",
     "text": [
      "Found 2000 images belonging to 2 classes.\n"
     ]
    }
   ],
   "source": [
    "test_set = test_datagen.flow_from_directory(\n",
    "        'dataset/test_set',\n",
    "        target_size = (64, 64),\n",
    "        batch_size = 32,\n",
    "        class_mode = 'binary')"
   ]
  },
  {
   "cell_type": "markdown",
   "id": "4506052b",
   "metadata": {},
   "source": [
    "## Convolutional Neural Network"
   ]
  },
  {
   "cell_type": "markdown",
   "id": "c9ee0ad5",
   "metadata": {},
   "source": [
    "##### Model Initialisation"
   ]
  },
  {
   "cell_type": "code",
   "execution_count": 31,
   "id": "0d07a5bf",
   "metadata": {},
   "outputs": [],
   "source": [
    "cnn = tf.keras.models.Sequential()"
   ]
  },
  {
   "cell_type": "markdown",
   "id": "6aa52c51",
   "metadata": {},
   "source": [
    "##### Convolution"
   ]
  },
  {
   "cell_type": "code",
   "execution_count": 32,
   "id": "8ec87d19",
   "metadata": {},
   "outputs": [],
   "source": [
    "cnn.add(tf.keras.layers.Conv2D(filters = 32, kernel_size = 3, activation = 'relu', input_shape = (64, 64, 3)))    \n",
    "# Filters : number of feature detectors\n",
    "# kernel_size = 3 means 3x3\n",
    "# input_shape : [width, height, 3D(colored image) = 3] -> only first first layer"
   ]
  },
  {
   "cell_type": "markdown",
   "id": "5917232a",
   "metadata": {},
   "source": [
    "##### Pooling"
   ]
  },
  {
   "cell_type": "code",
   "execution_count": 33,
   "id": "01b0daec",
   "metadata": {},
   "outputs": [],
   "source": [
    "cnn.add(tf.keras.layers.MaxPool2D(pool_size = 2, strides = 2))"
   ]
  },
  {
   "cell_type": "markdown",
   "id": "e8246a90",
   "metadata": {},
   "source": [
    "##### Second Convolutional Layer"
   ]
  },
  {
   "cell_type": "code",
   "execution_count": 34,
   "id": "dc9012db",
   "metadata": {},
   "outputs": [],
   "source": [
    "cnn.add(tf.keras.layers.Conv2D(filters = 32, kernel_size = 3, activation = 'relu'))\n",
    "cnn.add(tf.keras.layers.MaxPool2D(pool_size = 2, strides = 2))"
   ]
  },
  {
   "cell_type": "markdown",
   "id": "6c4f45ef",
   "metadata": {},
   "source": [
    "##### Flattening"
   ]
  },
  {
   "cell_type": "code",
   "execution_count": 35,
   "id": "ae56985c",
   "metadata": {},
   "outputs": [],
   "source": [
    "cnn.add(tf.keras.layers.Flatten())"
   ]
  },
  {
   "cell_type": "markdown",
   "id": "7807cd02",
   "metadata": {},
   "source": [
    "##### Full Connection"
   ]
  },
  {
   "cell_type": "code",
   "execution_count": 12,
   "id": "7d3767ea",
   "metadata": {},
   "outputs": [],
   "source": [
    "cnn.add(tf.keras.layers.Dense(units = 128, activation = 'relu'))"
   ]
  },
  {
   "cell_type": "markdown",
   "id": "63d8472c",
   "metadata": {},
   "source": [
    "##### Output Layer"
   ]
  },
  {
   "cell_type": "code",
   "execution_count": 13,
   "id": "1136a57f",
   "metadata": {},
   "outputs": [],
   "source": [
    "cnn.add(tf.keras.layers.Dense(units = 1, activation = 'sigmoid'))        # Binary results : units = 1"
   ]
  },
  {
   "cell_type": "markdown",
   "id": "378c233e",
   "metadata": {},
   "source": [
    "##### Compliation"
   ]
  },
  {
   "cell_type": "code",
   "execution_count": 14,
   "id": "d0027e6e",
   "metadata": {},
   "outputs": [
    {
     "name": "stdout",
     "output_type": "stream",
     "text": [
      "WARNING:tensorflow:From C:\\Users\\Dahee\\anaconda3\\Lib\\site-packages\\keras\\src\\optimizers\\__init__.py:309: The name tf.train.Optimizer is deprecated. Please use tf.compat.v1.train.Optimizer instead.\n",
      "\n"
     ]
    }
   ],
   "source": [
    "cnn.compile(optimizer = 'adam', loss = 'binary_crossentropy', metrics = ['accuracy'])"
   ]
  },
  {
   "cell_type": "markdown",
   "id": "121b74c0",
   "metadata": {},
   "source": [
    "## Training"
   ]
  },
  {
   "cell_type": "code",
   "execution_count": 15,
   "id": "dcb7819d",
   "metadata": {
    "scrolled": true
   },
   "outputs": [
    {
     "name": "stdout",
     "output_type": "stream",
     "text": [
      "Epoch 1/25\n",
      "WARNING:tensorflow:From C:\\Users\\Dahee\\anaconda3\\Lib\\site-packages\\keras\\src\\utils\\tf_utils.py:492: The name tf.ragged.RaggedTensorValue is deprecated. Please use tf.compat.v1.ragged.RaggedTensorValue instead.\n",
      "\n",
      "WARNING:tensorflow:From C:\\Users\\Dahee\\anaconda3\\Lib\\site-packages\\keras\\src\\engine\\base_layer_utils.py:384: The name tf.executing_eagerly_outside_functions is deprecated. Please use tf.compat.v1.executing_eagerly_outside_functions instead.\n",
      "\n",
      "250/250 [==============================] - 57s 226ms/step - loss: 0.6796 - accuracy: 0.5803 - val_loss: 0.7254 - val_accuracy: 0.5855\n",
      "Epoch 2/25\n",
      "250/250 [==============================] - 22s 87ms/step - loss: 0.6315 - accuracy: 0.6488 - val_loss: 0.6024 - val_accuracy: 0.7015\n",
      "Epoch 3/25\n",
      "250/250 [==============================] - 22s 88ms/step - loss: 0.5836 - accuracy: 0.6936 - val_loss: 0.6134 - val_accuracy: 0.6650\n",
      "Epoch 4/25\n",
      "250/250 [==============================] - 22s 88ms/step - loss: 0.5482 - accuracy: 0.7185 - val_loss: 0.5422 - val_accuracy: 0.7240\n",
      "Epoch 5/25\n",
      "250/250 [==============================] - 22s 87ms/step - loss: 0.5175 - accuracy: 0.7449 - val_loss: 0.5115 - val_accuracy: 0.7525\n",
      "Epoch 6/25\n",
      "250/250 [==============================] - 22s 87ms/step - loss: 0.5056 - accuracy: 0.7501 - val_loss: 0.5332 - val_accuracy: 0.7360\n",
      "Epoch 7/25\n",
      "250/250 [==============================] - 21s 85ms/step - loss: 0.4849 - accuracy: 0.7648 - val_loss: 0.5273 - val_accuracy: 0.7480\n",
      "Epoch 8/25\n",
      "250/250 [==============================] - 22s 87ms/step - loss: 0.4662 - accuracy: 0.7770 - val_loss: 0.4916 - val_accuracy: 0.7645\n",
      "Epoch 9/25\n",
      "250/250 [==============================] - 22s 87ms/step - loss: 0.4477 - accuracy: 0.7886 - val_loss: 0.4751 - val_accuracy: 0.7740\n",
      "Epoch 10/25\n",
      "250/250 [==============================] - 22s 86ms/step - loss: 0.4353 - accuracy: 0.7933 - val_loss: 0.4844 - val_accuracy: 0.7695\n",
      "Epoch 11/25\n",
      "250/250 [==============================] - 22s 86ms/step - loss: 0.4202 - accuracy: 0.8005 - val_loss: 0.5204 - val_accuracy: 0.7530\n",
      "Epoch 12/25\n",
      "250/250 [==============================] - 21s 85ms/step - loss: 0.4030 - accuracy: 0.8170 - val_loss: 0.4494 - val_accuracy: 0.7960\n",
      "Epoch 13/25\n",
      "250/250 [==============================] - 22s 88ms/step - loss: 0.3861 - accuracy: 0.8209 - val_loss: 0.4543 - val_accuracy: 0.7915\n",
      "Epoch 14/25\n",
      "250/250 [==============================] - 22s 88ms/step - loss: 0.3676 - accuracy: 0.8381 - val_loss: 0.5048 - val_accuracy: 0.7815\n",
      "Epoch 15/25\n",
      "250/250 [==============================] - 22s 88ms/step - loss: 0.3621 - accuracy: 0.8350 - val_loss: 0.5167 - val_accuracy: 0.7765\n",
      "Epoch 16/25\n",
      "250/250 [==============================] - 21s 85ms/step - loss: 0.3460 - accuracy: 0.8504 - val_loss: 0.4777 - val_accuracy: 0.7950\n",
      "Epoch 17/25\n",
      "250/250 [==============================] - 22s 86ms/step - loss: 0.3254 - accuracy: 0.8537 - val_loss: 0.5189 - val_accuracy: 0.7780\n",
      "Epoch 18/25\n",
      "250/250 [==============================] - 22s 86ms/step - loss: 0.3085 - accuracy: 0.8651 - val_loss: 0.4999 - val_accuracy: 0.7950\n",
      "Epoch 19/25\n",
      "250/250 [==============================] - 21s 86ms/step - loss: 0.2901 - accuracy: 0.8727 - val_loss: 0.5088 - val_accuracy: 0.7955\n",
      "Epoch 20/25\n",
      "250/250 [==============================] - 21s 86ms/step - loss: 0.2902 - accuracy: 0.8758 - val_loss: 0.5525 - val_accuracy: 0.7775\n",
      "Epoch 21/25\n",
      "250/250 [==============================] - 22s 87ms/step - loss: 0.2725 - accuracy: 0.8820 - val_loss: 0.5300 - val_accuracy: 0.7875\n",
      "Epoch 22/25\n",
      "250/250 [==============================] - 22s 86ms/step - loss: 0.2578 - accuracy: 0.8938 - val_loss: 0.5861 - val_accuracy: 0.7755\n",
      "Epoch 23/25\n",
      "250/250 [==============================] - 21s 85ms/step - loss: 0.2466 - accuracy: 0.9001 - val_loss: 0.5417 - val_accuracy: 0.7915\n",
      "Epoch 24/25\n",
      "250/250 [==============================] - 22s 87ms/step - loss: 0.2287 - accuracy: 0.9062 - val_loss: 0.5756 - val_accuracy: 0.7925\n",
      "Epoch 25/25\n",
      "250/250 [==============================] - 21s 86ms/step - loss: 0.2236 - accuracy: 0.9112 - val_loss: 0.5381 - val_accuracy: 0.7965\n"
     ]
    },
    {
     "data": {
      "text/plain": [
       "<keras.src.callbacks.History at 0x2db4ee542d0>"
      ]
     },
     "execution_count": 15,
     "metadata": {},
     "output_type": "execute_result"
    }
   ],
   "source": [
    "cnn.fit(x = training_set, validation_data = test_set, epochs = 25)"
   ]
  },
  {
   "cell_type": "markdown",
   "id": "8dc172d8",
   "metadata": {},
   "source": [
    "## Prediction"
   ]
  },
  {
   "cell_type": "code",
   "execution_count": 16,
   "id": "654b1975",
   "metadata": {},
   "outputs": [],
   "source": [
    "import numpy as np\n",
    "from keras.preprocessing import image\n",
    "\n",
    "test_image = image.load_img('dataset/single_prediction/cat_or_dog_1.jpg', target_size = (64, 64))\n",
    "# Convert to an array to be able to implement predict() method\n",
    "test_image = image.img_to_array(test_image)\n",
    "# our training has been done on BATCHES of images, a single image to predict needs to be in batches too\n",
    "test_image = np.expand_dims(test_image, axis = 0)"
   ]
  },
  {
   "cell_type": "code",
   "execution_count": 18,
   "id": "6b96e2ea",
   "metadata": {},
   "outputs": [
    {
     "name": "stdout",
     "output_type": "stream",
     "text": [
      "1/1 [==============================] - 0s 77ms/step\n"
     ]
    }
   ],
   "source": [
    "result = cnn.predict(test_image)\n",
    "training_set.class_indices\n",
    "\n",
    "if result[0][0] == 1 :                # [access to the batch][access single element]\n",
    "    prediction = 'dog'\n",
    "else :\n",
    "    prediction = 'cat'"
   ]
  },
  {
   "cell_type": "code",
   "execution_count": 19,
   "id": "30c70a45",
   "metadata": {},
   "outputs": [
    {
     "name": "stdout",
     "output_type": "stream",
     "text": [
      "dog\n"
     ]
    }
   ],
   "source": [
    "print(prediction)"
   ]
  },
  {
   "cell_type": "code",
   "execution_count": 21,
   "id": "bff0f5cb",
   "metadata": {},
   "outputs": [],
   "source": [
    "test_image_2 = image.load_img('dataset/single_prediction/cat_or_dog_2.jpg', target_size = (64, 64))\n",
    "test_image_2 = image.img_to_array(test_image_2)\n",
    "test_image_2 = np.expand_dims(test_image_2, axis = 0)"
   ]
  },
  {
   "cell_type": "code",
   "execution_count": 22,
   "id": "b625026a",
   "metadata": {},
   "outputs": [
    {
     "name": "stdout",
     "output_type": "stream",
     "text": [
      "1/1 [==============================] - 0s 15ms/step\n"
     ]
    }
   ],
   "source": [
    "result = cnn.predict(test_image_2)\n",
    "training_set.class_indices\n",
    "\n",
    "if result[0][0] == 1 :                \n",
    "    prediction = 'dog'\n",
    "else :\n",
    "    prediction = 'cat'"
   ]
  },
  {
   "cell_type": "code",
   "execution_count": 23,
   "id": "ffc43dae",
   "metadata": {},
   "outputs": [
    {
     "name": "stdout",
     "output_type": "stream",
     "text": [
      "cat\n"
     ]
    }
   ],
   "source": [
    "print(prediction)"
   ]
  },
  {
   "cell_type": "markdown",
   "id": "bde17127",
   "metadata": {},
   "source": [
    "##### Testing on Random Images from Test Set"
   ]
  },
  {
   "cell_type": "code",
   "execution_count": 24,
   "id": "198f530f",
   "metadata": {},
   "outputs": [
    {
     "name": "stdout",
     "output_type": "stream",
     "text": [
      "1/1 [==============================] - 0s 15ms/step\n",
      "dog\n"
     ]
    }
   ],
   "source": [
    "test_image_3 = image.load_img('dataset/single_prediction/cat_or_dog_3.jpg', target_size = (64, 64))\n",
    "test_image_3 = image.img_to_array(test_image_3)\n",
    "test_image_3 = np.expand_dims(test_image_3, axis = 0)\n",
    "\n",
    "result = cnn.predict(test_image_3)\n",
    "training_set.class_indices\n",
    "\n",
    "if result[0][0] == 1 :                \n",
    "    prediction = 'dog'\n",
    "else :\n",
    "    prediction = 'cat'\n",
    "    \n",
    "print(prediction)"
   ]
  },
  {
   "cell_type": "code",
   "execution_count": 25,
   "id": "3b360928",
   "metadata": {},
   "outputs": [
    {
     "name": "stdout",
     "output_type": "stream",
     "text": [
      "1/1 [==============================] - 0s 15ms/step\n",
      "cat\n"
     ]
    }
   ],
   "source": [
    "test_image_4 = image.load_img('dataset/single_prediction/cat_or_dog_4.jpg', target_size = (64, 64))\n",
    "test_image_4 = image.img_to_array(test_image_4)\n",
    "test_image_4 = np.expand_dims(test_image_4, axis = 0)\n",
    "\n",
    "result = cnn.predict(test_image_4)\n",
    "training_set.class_indices\n",
    "\n",
    "if result[0][0] == 1 :                \n",
    "    prediction = 'dog'\n",
    "else :\n",
    "    prediction = 'cat'\n",
    "    \n",
    "print(prediction)"
   ]
  }
 ],
 "metadata": {
  "kernelspec": {
   "display_name": "Python 3 (ipykernel)",
   "language": "python",
   "name": "python3"
  },
  "language_info": {
   "codemirror_mode": {
    "name": "ipython",
    "version": 3
   },
   "file_extension": ".py",
   "mimetype": "text/x-python",
   "name": "python",
   "nbconvert_exporter": "python",
   "pygments_lexer": "ipython3",
   "version": "3.11.5"
  }
 },
 "nbformat": 4,
 "nbformat_minor": 5
}
