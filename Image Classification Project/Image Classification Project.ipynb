{
 "cells": [
  {
   "cell_type": "markdown",
   "id": "623139f4",
   "metadata": {},
   "source": [
    "###### Credit : superdatascience.com"
   ]
  },
  {
   "cell_type": "markdown",
   "id": "f344050e",
   "metadata": {},
   "source": [
    "Cat or Dog Classification using Convolutional Neural Network Model"
   ]
  },
  {
   "cell_type": "code",
   "execution_count": 2,
   "id": "7635512d",
   "metadata": {},
   "outputs": [],
   "source": [
    "import tensorflow as tf\n",
    "from keras.preprocessing.image import ImageDataGenerator\n",
    "import warnings\n",
    "warnings.filterwarnings('ignore')"
   ]
  },
  {
   "cell_type": "markdown",
   "id": "27593972",
   "metadata": {},
   "source": [
    "## Data & Preprocessing"
   ]
  },
  {
   "cell_type": "markdown",
   "id": "b6734191",
   "metadata": {},
   "source": [
    "##### Training Set"
   ]
  },
  {
   "cell_type": "code",
   "execution_count": 3,
   "id": "e95b3974",
   "metadata": {},
   "outputs": [],
   "source": [
    "# Transform all the images of the training set : to avoid over-fitting\n",
    "train_datagen = ImageDataGenerator(\n",
    "        rescale = 1./255,\n",
    "        shear_range = 0.2,\n",
    "        zoom_range = 0.2,\n",
    "        horizontal_flip = True)"
   ]
  },
  {
   "cell_type": "code",
   "execution_count": 4,
   "id": "1a8976dd",
   "metadata": {},
   "outputs": [
    {
     "name": "stdout",
     "output_type": "stream",
     "text": [
      "Found 8000 images belonging to 2 classes.\n"
     ]
    }
   ],
   "source": [
    "# import the training set by accessing the directory\n",
    "# resize to reduce computational power\n",
    "training_set = train_datagen.flow_from_directory(\n",
    "        'dataset/training_set',\n",
    "        target_size = (64, 64),\n",
    "        batch_size = 32,\n",
    "        class_mode = 'binary')"
   ]
  },
  {
   "cell_type": "markdown",
   "id": "d8f5baa6",
   "metadata": {},
   "source": [
    "##### Test Set"
   ]
  },
  {
   "cell_type": "code",
   "execution_count": 5,
   "id": "9f16de0d",
   "metadata": {},
   "outputs": [],
   "source": [
    "test_datagen = ImageDataGenerator(rescale = 1./255)    # No transformation on test set"
   ]
  },
  {
   "cell_type": "code",
   "execution_count": 6,
   "id": "a231ae98",
   "metadata": {},
   "outputs": [
    {
     "name": "stdout",
     "output_type": "stream",
     "text": [
      "Found 2000 images belonging to 2 classes.\n"
     ]
    }
   ],
   "source": [
    "test_set = test_datagen.flow_from_directory(\n",
    "        'dataset/test_set',\n",
    "        target_size = (64, 64),\n",
    "        batch_size = 32,\n",
    "        class_mode = 'binary')"
   ]
  },
  {
   "cell_type": "markdown",
   "id": "4506052b",
   "metadata": {},
   "source": [
    "## Convolutional Neural Network"
   ]
  },
  {
   "cell_type": "markdown",
   "id": "c9ee0ad5",
   "metadata": {},
   "source": [
    "##### Model Initialisation"
   ]
  },
  {
   "cell_type": "code",
   "execution_count": 10,
   "id": "0d07a5bf",
   "metadata": {},
   "outputs": [],
   "source": [
    "cnn = tf.keras.models.Sequential()"
   ]
  },
  {
   "cell_type": "markdown",
   "id": "6aa52c51",
   "metadata": {},
   "source": [
    "##### Convolution"
   ]
  },
  {
   "cell_type": "code",
   "execution_count": 11,
   "id": "8ec87d19",
   "metadata": {},
   "outputs": [],
   "source": [
    "cnn.add(tf.keras.layers.Conv2D(filters = 32, kernel_size = 3, activation = 'relu', input_shape = (64, 64, 3)))    \n",
    "# Filters : number of feature detectors\n",
    "# kernel_size = 3 means 3x3\n",
    "# input_shape : [width, height, 3D(colored image) = 3] -> only first first layer"
   ]
  },
  {
   "cell_type": "markdown",
   "id": "5917232a",
   "metadata": {},
   "source": [
    "##### Pooling"
   ]
  },
  {
   "cell_type": "code",
   "execution_count": 12,
   "id": "01b0daec",
   "metadata": {},
   "outputs": [],
   "source": [
    "cnn.add(tf.keras.layers.MaxPool2D(pool_size = 2, strides = 2))"
   ]
  },
  {
   "cell_type": "markdown",
   "id": "e8246a90",
   "metadata": {},
   "source": [
    "##### Second Convolutional Layer"
   ]
  },
  {
   "cell_type": "code",
   "execution_count": 13,
   "id": "dc9012db",
   "metadata": {},
   "outputs": [],
   "source": [
    "cnn.add(tf.keras.layers.Conv2D(filters = 32, kernel_size = 3, activation = 'relu'))\n",
    "cnn.add(tf.keras.layers.MaxPool2D(pool_size = 2, strides = 2))"
   ]
  },
  {
   "cell_type": "markdown",
   "id": "6c4f45ef",
   "metadata": {},
   "source": [
    "##### Flattening"
   ]
  },
  {
   "cell_type": "code",
   "execution_count": 14,
   "id": "ae56985c",
   "metadata": {},
   "outputs": [],
   "source": [
    "cnn.add(tf.keras.layers.Flatten())"
   ]
  },
  {
   "cell_type": "markdown",
   "id": "7807cd02",
   "metadata": {},
   "source": [
    "##### Full Connection"
   ]
  },
  {
   "cell_type": "code",
   "execution_count": 15,
   "id": "7d3767ea",
   "metadata": {},
   "outputs": [],
   "source": [
    "cnn.add(tf.keras.layers.Dense(units = 128, activation = 'relu'))"
   ]
  },
  {
   "cell_type": "markdown",
   "id": "63d8472c",
   "metadata": {},
   "source": [
    "##### Output Layer"
   ]
  },
  {
   "cell_type": "code",
   "execution_count": 16,
   "id": "1136a57f",
   "metadata": {},
   "outputs": [],
   "source": [
    "cnn.add(tf.keras.layers.Dense(units = 1, activation = 'sigmoid'))        # Binary results : units = 1"
   ]
  },
  {
   "cell_type": "markdown",
   "id": "378c233e",
   "metadata": {},
   "source": [
    "##### Compliation"
   ]
  },
  {
   "cell_type": "code",
   "execution_count": 18,
   "id": "d0027e6e",
   "metadata": {},
   "outputs": [],
   "source": [
    "cnn.compile(optimizer = 'adam', loss = 'binary_crossentropy', metrics = ['accuracy'])"
   ]
  },
  {
   "cell_type": "markdown",
   "id": "121b74c0",
   "metadata": {},
   "source": [
    "## Training"
   ]
  },
  {
   "cell_type": "code",
   "execution_count": 20,
   "id": "dcb7819d",
   "metadata": {
    "scrolled": true
   },
   "outputs": [
    {
     "name": "stdout",
     "output_type": "stream",
     "text": [
      "Epoch 1/25\n",
      "250/250 [==============================] - 61s 245ms/step - loss: 0.6725 - accuracy: 0.5845 - val_loss: 0.6417 - val_accuracy: 0.6265\n",
      "Epoch 2/25\n",
      "250/250 [==============================] - 23s 93ms/step - loss: 0.6143 - accuracy: 0.6645 - val_loss: 0.5871 - val_accuracy: 0.7055\n",
      "Epoch 3/25\n",
      "250/250 [==============================] - 23s 93ms/step - loss: 0.5743 - accuracy: 0.7009 - val_loss: 0.5442 - val_accuracy: 0.7280\n",
      "Epoch 4/25\n",
      "250/250 [==============================] - 24s 94ms/step - loss: 0.5342 - accuracy: 0.7339 - val_loss: 0.5625 - val_accuracy: 0.7270\n",
      "Epoch 5/25\n",
      "250/250 [==============================] - 23s 93ms/step - loss: 0.5060 - accuracy: 0.7566 - val_loss: 0.5380 - val_accuracy: 0.7410\n",
      "Epoch 6/25\n",
      "250/250 [==============================] - 23s 92ms/step - loss: 0.4928 - accuracy: 0.7611 - val_loss: 0.4949 - val_accuracy: 0.7645\n",
      "Epoch 7/25\n",
      "250/250 [==============================] - 23s 91ms/step - loss: 0.4719 - accuracy: 0.7730 - val_loss: 0.4928 - val_accuracy: 0.7680\n",
      "Epoch 8/25\n",
      "250/250 [==============================] - 24s 94ms/step - loss: 0.4591 - accuracy: 0.7772 - val_loss: 0.4949 - val_accuracy: 0.7670\n",
      "Epoch 9/25\n",
      "250/250 [==============================] - 23s 94ms/step - loss: 0.4345 - accuracy: 0.7979 - val_loss: 0.4622 - val_accuracy: 0.7815\n",
      "Epoch 10/25\n",
      "250/250 [==============================] - 23s 93ms/step - loss: 0.4250 - accuracy: 0.8030 - val_loss: 0.5087 - val_accuracy: 0.7735\n",
      "Epoch 11/25\n",
      "250/250 [==============================] - 24s 95ms/step - loss: 0.4107 - accuracy: 0.8094 - val_loss: 0.4618 - val_accuracy: 0.7885\n",
      "Epoch 12/25\n",
      "250/250 [==============================] - 24s 96ms/step - loss: 0.4149 - accuracy: 0.8096 - val_loss: 0.4484 - val_accuracy: 0.7940\n",
      "Epoch 13/25\n",
      "250/250 [==============================] - 23s 93ms/step - loss: 0.3935 - accuracy: 0.8260 - val_loss: 0.4631 - val_accuracy: 0.8025\n",
      "Epoch 14/25\n",
      "250/250 [==============================] - 23s 93ms/step - loss: 0.3795 - accuracy: 0.8270 - val_loss: 0.4477 - val_accuracy: 0.8090\n",
      "Epoch 15/25\n",
      "250/250 [==============================] - 23s 94ms/step - loss: 0.3658 - accuracy: 0.8315 - val_loss: 0.4865 - val_accuracy: 0.7880\n",
      "Epoch 16/25\n",
      "250/250 [==============================] - 24s 95ms/step - loss: 0.3567 - accuracy: 0.8429 - val_loss: 0.4586 - val_accuracy: 0.8055\n",
      "Epoch 17/25\n",
      "250/250 [==============================] - 23s 94ms/step - loss: 0.3337 - accuracy: 0.8536 - val_loss: 0.4637 - val_accuracy: 0.8085\n",
      "Epoch 18/25\n",
      "250/250 [==============================] - 23s 93ms/step - loss: 0.3269 - accuracy: 0.8583 - val_loss: 0.5849 - val_accuracy: 0.7685\n",
      "Epoch 19/25\n",
      "250/250 [==============================] - 23s 92ms/step - loss: 0.3095 - accuracy: 0.8661 - val_loss: 0.4764 - val_accuracy: 0.8035\n",
      "Epoch 20/25\n",
      "250/250 [==============================] - 23s 92ms/step - loss: 0.3059 - accuracy: 0.8665 - val_loss: 0.4887 - val_accuracy: 0.8045\n",
      "Epoch 21/25\n",
      "250/250 [==============================] - 24s 94ms/step - loss: 0.2930 - accuracy: 0.8717 - val_loss: 0.5351 - val_accuracy: 0.7895\n",
      "Epoch 22/25\n",
      "250/250 [==============================] - 23s 91ms/step - loss: 0.2754 - accuracy: 0.8838 - val_loss: 0.5216 - val_accuracy: 0.8000\n",
      "Epoch 23/25\n",
      "250/250 [==============================] - 23s 91ms/step - loss: 0.2669 - accuracy: 0.8857 - val_loss: 0.4803 - val_accuracy: 0.8020\n",
      "Epoch 24/25\n",
      "250/250 [==============================] - 24s 95ms/step - loss: 0.2534 - accuracy: 0.8929 - val_loss: 0.5532 - val_accuracy: 0.7975\n",
      "Epoch 25/25\n",
      "250/250 [==============================] - 23s 91ms/step - loss: 0.2397 - accuracy: 0.8990 - val_loss: 0.5122 - val_accuracy: 0.8055\n"
     ]
    },
    {
     "data": {
      "text/plain": [
       "<keras.src.callbacks.History at 0x21d7ed2c610>"
      ]
     },
     "execution_count": 20,
     "metadata": {},
     "output_type": "execute_result"
    }
   ],
   "source": [
    "cnn.fit(x = training_set, validation_data = test_set, epochs = 25)"
   ]
  },
  {
   "cell_type": "markdown",
   "id": "8dc172d8",
   "metadata": {},
   "source": [
    "## Prediction"
   ]
  },
  {
   "cell_type": "code",
   "execution_count": 21,
   "id": "654b1975",
   "metadata": {},
   "outputs": [],
   "source": [
    "import numpy as np\n",
    "from keras.preprocessing import image\n",
    "\n",
    "test_image = image.load_img('dataset/single_prediction/cat_or_dog_1.jpg', target_size = (64, 64))\n",
    "# Convert to an array to be able to implement predict() method\n",
    "test_image = image.img_to_array(test_image)\n",
    "# our training has been done on BATCHES of images, a single image to predict needs to be in batches too\n",
    "test_image = np.expand_dims(test_image, axis = 0)"
   ]
  },
  {
   "cell_type": "code",
   "execution_count": 22,
   "id": "6b96e2ea",
   "metadata": {},
   "outputs": [
    {
     "name": "stdout",
     "output_type": "stream",
     "text": [
      "1/1 [==============================] - 0s 74ms/step\n"
     ]
    }
   ],
   "source": [
    "result = cnn.predict(test_image)\n",
    "training_set.class_indices\n",
    "\n",
    "if result[0][0] == 1 :                # [access to the batch][access single element]\n",
    "    prediction = 'dog'\n",
    "else :\n",
    "    prediction = 'cat'"
   ]
  },
  {
   "cell_type": "code",
   "execution_count": 23,
   "id": "30c70a45",
   "metadata": {},
   "outputs": [
    {
     "name": "stdout",
     "output_type": "stream",
     "text": [
      "dog\n"
     ]
    }
   ],
   "source": [
    "print(prediction)"
   ]
  },
  {
   "cell_type": "code",
   "execution_count": 24,
   "id": "bff0f5cb",
   "metadata": {},
   "outputs": [],
   "source": [
    "test_image_2 = image.load_img('dataset/single_prediction/cat_or_dog_2.jpg', target_size = (64, 64))\n",
    "test_image_2 = image.img_to_array(test_image_2)\n",
    "test_image_2 = np.expand_dims(test_image_2, axis = 0)"
   ]
  },
  {
   "cell_type": "code",
   "execution_count": 25,
   "id": "b625026a",
   "metadata": {},
   "outputs": [
    {
     "name": "stdout",
     "output_type": "stream",
     "text": [
      "1/1 [==============================] - 0s 16ms/step\n"
     ]
    }
   ],
   "source": [
    "result = cnn.predict(test_image_2)\n",
    "training_set.class_indices\n",
    "\n",
    "if result[0][0] == 1 :                \n",
    "    prediction = 'dog'\n",
    "else :\n",
    "    prediction = 'cat'"
   ]
  },
  {
   "cell_type": "code",
   "execution_count": 26,
   "id": "ffc43dae",
   "metadata": {},
   "outputs": [
    {
     "name": "stdout",
     "output_type": "stream",
     "text": [
      "cat\n"
     ]
    }
   ],
   "source": [
    "print(prediction)"
   ]
  },
  {
   "cell_type": "markdown",
   "id": "bde17127",
   "metadata": {},
   "source": [
    "##### Testing on Random Images from Test Set"
   ]
  },
  {
   "cell_type": "code",
   "execution_count": 27,
   "id": "198f530f",
   "metadata": {},
   "outputs": [
    {
     "name": "stdout",
     "output_type": "stream",
     "text": [
      "1/1 [==============================] - 0s 15ms/step\n",
      "dog\n"
     ]
    }
   ],
   "source": [
    "test_image_3 = image.load_img('dataset/single_prediction/cat_or_dog_3.jpg', target_size = (64, 64))\n",
    "test_image_3 = image.img_to_array(test_image_3)\n",
    "test_image_3 = np.expand_dims(test_image_3, axis = 0)\n",
    "\n",
    "result = cnn.predict(test_image_3)\n",
    "training_set.class_indices\n",
    "\n",
    "if result[0][0] == 1 :                \n",
    "    prediction = 'dog'\n",
    "else :\n",
    "    prediction = 'cat'\n",
    "    \n",
    "print(prediction)"
   ]
  },
  {
   "cell_type": "code",
   "execution_count": 28,
   "id": "3b360928",
   "metadata": {},
   "outputs": [
    {
     "name": "stdout",
     "output_type": "stream",
     "text": [
      "1/1 [==============================] - 0s 16ms/step\n",
      "cat\n"
     ]
    }
   ],
   "source": [
    "test_image_4 = image.load_img('dataset/single_prediction/cat_or_dog_4.jpg', target_size = (64, 64))\n",
    "test_image_4 = image.img_to_array(test_image_4)\n",
    "test_image_4 = np.expand_dims(test_image_4, axis = 0)\n",
    "\n",
    "result = cnn.predict(test_image_4)\n",
    "training_set.class_indices\n",
    "\n",
    "if result[0][0] == 1 :                \n",
    "    prediction = 'dog'\n",
    "else :\n",
    "    prediction = 'cat'\n",
    "    \n",
    "print(prediction)"
   ]
  }
 ],
 "metadata": {
  "kernelspec": {
   "display_name": "Python 3 (ipykernel)",
   "language": "python",
   "name": "python3"
  },
  "language_info": {
   "codemirror_mode": {
    "name": "ipython",
    "version": 3
   },
   "file_extension": ".py",
   "mimetype": "text/x-python",
   "name": "python",
   "nbconvert_exporter": "python",
   "pygments_lexer": "ipython3",
   "version": "3.11.5"
  }
 },
 "nbformat": 4,
 "nbformat_minor": 5
}
