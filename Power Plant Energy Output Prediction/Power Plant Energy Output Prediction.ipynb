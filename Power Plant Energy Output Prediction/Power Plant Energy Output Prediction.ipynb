{
 "cells": [
  {
   "cell_type": "markdown",
   "id": "b8c5448e",
   "metadata": {},
   "source": [
    "###### Credit : superdatascience.com"
   ]
  },
  {
   "cell_type": "markdown",
   "id": "05868915",
   "metadata": {},
   "source": [
    "Business case : Predict the net hourly electrical energy output (EP) of the power plant"
   ]
  },
  {
   "cell_type": "code",
   "execution_count": 1,
   "id": "4c8ce3de",
   "metadata": {},
   "outputs": [],
   "source": [
    "import numpy as np\n",
    "import pandas as pd\n",
    "import matplotlib.pyplot as plt\n",
    "import seaborn as sns\n",
    "%matplotlib inline"
   ]
  },
  {
   "cell_type": "code",
   "execution_count": 2,
   "id": "c00b93cf",
   "metadata": {
    "scrolled": false
   },
   "outputs": [
    {
     "name": "stdout",
     "output_type": "stream",
     "text": [
      "WARNING:tensorflow:From C:\\Users\\Dahee\\anaconda3\\Lib\\site-packages\\keras\\src\\losses.py:2976: The name tf.losses.sparse_softmax_cross_entropy is deprecated. Please use tf.compat.v1.losses.sparse_softmax_cross_entropy instead.\n",
      "\n"
     ]
    }
   ],
   "source": [
    "import tensorflow as tf"
   ]
  },
  {
   "cell_type": "markdown",
   "id": "2a64cd32",
   "metadata": {},
   "source": [
    "## Data"
   ]
  },
  {
   "cell_type": "markdown",
   "id": "c31359d4",
   "metadata": {},
   "source": [
    "* Temperature (T), Ambient Pressure (AP), Relative Humidity (RH) and Exhaust Vacuum (V)\n",
    "* net hourly electrical energy output (EP)"
   ]
  },
  {
   "cell_type": "code",
   "execution_count": 3,
   "id": "6cd1deff",
   "metadata": {},
   "outputs": [],
   "source": [
    "dataset = pd.read_excel('Folds5x2_pp.xlsx')"
   ]
  },
  {
   "cell_type": "code",
   "execution_count": 4,
   "id": "0214580d",
   "metadata": {},
   "outputs": [
    {
     "data": {
      "text/html": [
       "<div>\n",
       "<style scoped>\n",
       "    .dataframe tbody tr th:only-of-type {\n",
       "        vertical-align: middle;\n",
       "    }\n",
       "\n",
       "    .dataframe tbody tr th {\n",
       "        vertical-align: top;\n",
       "    }\n",
       "\n",
       "    .dataframe thead th {\n",
       "        text-align: right;\n",
       "    }\n",
       "</style>\n",
       "<table border=\"1\" class=\"dataframe\">\n",
       "  <thead>\n",
       "    <tr style=\"text-align: right;\">\n",
       "      <th></th>\n",
       "      <th>AT</th>\n",
       "      <th>V</th>\n",
       "      <th>AP</th>\n",
       "      <th>RH</th>\n",
       "      <th>PE</th>\n",
       "    </tr>\n",
       "  </thead>\n",
       "  <tbody>\n",
       "    <tr>\n",
       "      <th>0</th>\n",
       "      <td>14.96</td>\n",
       "      <td>41.76</td>\n",
       "      <td>1024.07</td>\n",
       "      <td>73.17</td>\n",
       "      <td>463.26</td>\n",
       "    </tr>\n",
       "    <tr>\n",
       "      <th>1</th>\n",
       "      <td>25.18</td>\n",
       "      <td>62.96</td>\n",
       "      <td>1020.04</td>\n",
       "      <td>59.08</td>\n",
       "      <td>444.37</td>\n",
       "    </tr>\n",
       "    <tr>\n",
       "      <th>2</th>\n",
       "      <td>5.11</td>\n",
       "      <td>39.40</td>\n",
       "      <td>1012.16</td>\n",
       "      <td>92.14</td>\n",
       "      <td>488.56</td>\n",
       "    </tr>\n",
       "    <tr>\n",
       "      <th>3</th>\n",
       "      <td>20.86</td>\n",
       "      <td>57.32</td>\n",
       "      <td>1010.24</td>\n",
       "      <td>76.64</td>\n",
       "      <td>446.48</td>\n",
       "    </tr>\n",
       "    <tr>\n",
       "      <th>4</th>\n",
       "      <td>10.82</td>\n",
       "      <td>37.50</td>\n",
       "      <td>1009.23</td>\n",
       "      <td>96.62</td>\n",
       "      <td>473.90</td>\n",
       "    </tr>\n",
       "  </tbody>\n",
       "</table>\n",
       "</div>"
      ],
      "text/plain": [
       "      AT      V       AP     RH      PE\n",
       "0  14.96  41.76  1024.07  73.17  463.26\n",
       "1  25.18  62.96  1020.04  59.08  444.37\n",
       "2   5.11  39.40  1012.16  92.14  488.56\n",
       "3  20.86  57.32  1010.24  76.64  446.48\n",
       "4  10.82  37.50  1009.23  96.62  473.90"
      ]
     },
     "execution_count": 4,
     "metadata": {},
     "output_type": "execute_result"
    }
   ],
   "source": [
    "dataset.head()"
   ]
  },
  {
   "cell_type": "code",
   "execution_count": 5,
   "id": "8044fe8e",
   "metadata": {},
   "outputs": [],
   "source": [
    "X = dataset.iloc[:, :-1].values\n",
    "y = dataset.iloc[:, -1].values"
   ]
  },
  {
   "cell_type": "markdown",
   "id": "d8f5baa6",
   "metadata": {},
   "source": [
    "## Preprocessing"
   ]
  },
  {
   "cell_type": "markdown",
   "id": "8123575c",
   "metadata": {},
   "source": [
    "##### Missing Values"
   ]
  },
  {
   "cell_type": "code",
   "execution_count": 6,
   "id": "b491a075",
   "metadata": {},
   "outputs": [
    {
     "data": {
      "text/plain": [
       "<Axes: >"
      ]
     },
     "execution_count": 6,
     "metadata": {},
     "output_type": "execute_result"
    },
    {
     "data": {
      "image/png": "[encoded data removed]",
      "text/plain": [
       "<Figure size 1200x800 with 1 Axes>"
      ]
     },
     "metadata": {},
     "output_type": "display_data"
    }
   ],
   "source": [
    "plt.rcParams['figure.figsize'] = 12, 8\n",
    "sns.heatmap(dataset.isnull(), yticklabels = False, cbar = False, cmap = 'viridis')"
   ]
  },
  {
   "cell_type": "markdown",
   "id": "76acdf91",
   "metadata": {},
   "source": [
    "##### Set Split"
   ]
  },
  {
   "cell_type": "code",
   "execution_count": 8,
   "id": "b0abe3f8",
   "metadata": {},
   "outputs": [],
   "source": [
    "from sklearn.model_selection import train_test_split\n",
    "X_train, X_test, y_train, y_test = train_test_split(X, y, test_size = 0.2, random_state = 0)"
   ]
  },
  {
   "cell_type": "markdown",
   "id": "88c71257",
   "metadata": {},
   "source": [
    "##### Feature Scaling"
   ]
  },
  {
   "cell_type": "code",
   "execution_count": 9,
   "id": "7ed83208",
   "metadata": {},
   "outputs": [],
   "source": [
    "from sklearn.preprocessing import StandardScaler\n",
    "sc = StandardScaler()\n",
    "X_train = sc.fit_transform(X_train) \n",
    "X_test =  sc.transform(X_test)"
   ]
  },
  {
   "cell_type": "markdown",
   "id": "4506052b",
   "metadata": {},
   "source": [
    "## Artificial Neural Network"
   ]
  },
  {
   "cell_type": "markdown",
   "id": "9a20f856",
   "metadata": {},
   "source": [
    "##### Model"
   ]
  },
  {
   "cell_type": "code",
   "execution_count": 10,
   "id": "aaa0825c",
   "metadata": {},
   "outputs": [
    {
     "name": "stdout",
     "output_type": "stream",
     "text": [
      "WARNING:tensorflow:From C:\\Users\\Dahee\\anaconda3\\Lib\\site-packages\\keras\\src\\backend.py:873: The name tf.get_default_graph is deprecated. Please use tf.compat.v1.get_default_graph instead.\n",
      "\n",
      "WARNING:tensorflow:From C:\\Users\\Dahee\\anaconda3\\Lib\\site-packages\\keras\\src\\optimizers\\__init__.py:309: The name tf.train.Optimizer is deprecated. Please use tf.compat.v1.train.Optimizer instead.\n",
      "\n"
     ]
    }
   ],
   "source": [
    "ann = tf.keras.models.Sequential()\n",
    "\n",
    "ann.add(tf.keras.layers.Dense(units = 6, activation = 'relu'))\n",
    "ann.add(tf.keras.layers.Dense(units = 6, activation = 'relu'))\n",
    "\n",
    "ann.add(tf.keras.layers.Dense(units = 1))\n",
    "\n",
    "ann.compile(optimizer = 'adam', loss = 'mean_squared_error')"
   ]
  },
  {
   "cell_type": "markdown",
   "id": "121b74c0",
   "metadata": {},
   "source": [
    "##### Training"
   ]
  },
  {
   "cell_type": "code",
   "execution_count": 11,
   "id": "b9e7e427",
   "metadata": {
    "scrolled": true
   },
   "outputs": [
    {
     "name": "stdout",
     "output_type": "stream",
     "text": [
      "Epoch 1/100\n",
      "WARNING:tensorflow:From C:\\Users\\Dahee\\anaconda3\\Lib\\site-packages\\keras\\src\\utils\\tf_utils.py:492: The name tf.ragged.RaggedTensorValue is deprecated. Please use tf.compat.v1.ragged.RaggedTensorValue instead.\n",
      "\n",
      "240/240 [==============================] - 1s 738us/step - loss: 204845.8438\n",
      "Epoch 2/100\n",
      "240/240 [==============================] - 0s 671us/step - loss: 191655.8281\n",
      "Epoch 3/100\n",
      "240/240 [==============================] - 0s 662us/step - loss: 147186.8125\n",
      "Epoch 4/100\n",
      "240/240 [==============================] - 0s 761us/step - loss: 91038.0547\n",
      "Epoch 5/100\n",
      "240/240 [==============================] - 0s 654us/step - loss: 55149.8555\n",
      "Epoch 6/100\n",
      "240/240 [==============================] - 0s 653us/step - loss: 31577.8223\n",
      "Epoch 7/100\n",
      "240/240 [==============================] - 0s 777us/step - loss: 16956.0234\n",
      "Epoch 8/100\n",
      "240/240 [==============================] - 0s 895us/step - loss: 10236.9990\n",
      "Epoch 9/100\n",
      "240/240 [==============================] - 0s 727us/step - loss: 7121.8174\n",
      "Epoch 10/100\n",
      "240/240 [==============================] - 0s 644us/step - loss: 5277.6006\n",
      "Epoch 11/100\n",
      "240/240 [==============================] - 0s 646us/step - loss: 4047.5405\n",
      "Epoch 12/100\n",
      "240/240 [==============================] - 0s 681us/step - loss: 3164.4607\n",
      "Epoch 13/100\n",
      "240/240 [==============================] - 0s 675us/step - loss: 2504.3787\n",
      "Epoch 14/100\n",
      "240/240 [==============================] - 0s 660us/step - loss: 2007.5887\n",
      "Epoch 15/100\n",
      "240/240 [==============================] - 0s 661us/step - loss: 1630.4750\n",
      "Epoch 16/100\n",
      "240/240 [==============================] - 0s 658us/step - loss: 1340.8990\n",
      "Epoch 17/100\n",
      "240/240 [==============================] - 0s 672us/step - loss: 1105.3180\n",
      "Epoch 18/100\n",
      "240/240 [==============================] - 0s 684us/step - loss: 912.2681\n",
      "Epoch 19/100\n",
      "240/240 [==============================] - 0s 650us/step - loss: 752.9706\n",
      "Epoch 20/100\n",
      "240/240 [==============================] - 0s 645us/step - loss: 618.5298\n",
      "Epoch 21/100\n",
      "240/240 [==============================] - 0s 647us/step - loss: 503.6095\n",
      "Epoch 22/100\n",
      "240/240 [==============================] - 0s 653us/step - loss: 406.4206\n",
      "Epoch 23/100\n",
      "240/240 [==============================] - 0s 646us/step - loss: 324.4789\n",
      "Epoch 24/100\n",
      "240/240 [==============================] - 0s 685us/step - loss: 254.5132\n",
      "Epoch 25/100\n",
      "240/240 [==============================] - 0s 706us/step - loss: 195.9640\n",
      "Epoch 26/100\n",
      "240/240 [==============================] - 0s 828us/step - loss: 148.4961\n",
      "Epoch 27/100\n",
      "240/240 [==============================] - 0s 773us/step - loss: 110.3923\n",
      "Epoch 28/100\n",
      "240/240 [==============================] - 0s 642us/step - loss: 80.9940\n",
      "Epoch 29/100\n",
      "240/240 [==============================] - 0s 642us/step - loss: 59.5811\n",
      "Epoch 30/100\n",
      "240/240 [==============================] - 0s 903us/step - loss: 45.6625\n",
      "Epoch 31/100\n",
      "240/240 [==============================] - 0s 641us/step - loss: 36.9334\n",
      "Epoch 32/100\n",
      "240/240 [==============================] - 0s 644us/step - loss: 31.3074\n",
      "Epoch 33/100\n",
      "240/240 [==============================] - 0s 777us/step - loss: 27.7789\n",
      "Epoch 34/100\n",
      "240/240 [==============================] - 0s 817us/step - loss: 25.5811\n",
      "Epoch 35/100\n",
      "240/240 [==============================] - 0s 670us/step - loss: 24.2237\n",
      "Epoch 36/100\n",
      "240/240 [==============================] - 0s 669us/step - loss: 23.3366\n",
      "Epoch 37/100\n",
      "240/240 [==============================] - 0s 768us/step - loss: 22.7731\n",
      "Epoch 38/100\n",
      "240/240 [==============================] - 0s 687us/step - loss: 22.3339\n",
      "Epoch 39/100\n",
      "240/240 [==============================] - 0s 654us/step - loss: 22.0182\n",
      "Epoch 40/100\n",
      "240/240 [==============================] - 0s 652us/step - loss: 21.7386\n",
      "Epoch 41/100\n",
      "240/240 [==============================] - 0s 665us/step - loss: 21.6021\n",
      "Epoch 42/100\n",
      "240/240 [==============================] - 0s 635us/step - loss: 21.3678\n",
      "Epoch 43/100\n",
      "240/240 [==============================] - 0s 654us/step - loss: 21.2981\n",
      "Epoch 44/100\n",
      "240/240 [==============================] - 0s 661us/step - loss: 21.1680\n",
      "Epoch 45/100\n",
      "240/240 [==============================] - 0s 654us/step - loss: 21.2626\n",
      "Epoch 46/100\n",
      "240/240 [==============================] - 0s 664us/step - loss: 21.1079\n",
      "Epoch 47/100\n",
      "240/240 [==============================] - 0s 713us/step - loss: 20.9742\n",
      "Epoch 48/100\n",
      "240/240 [==============================] - 0s 649us/step - loss: 21.0305\n",
      "Epoch 49/100\n",
      "240/240 [==============================] - 0s 641us/step - loss: 21.0387\n",
      "Epoch 50/100\n",
      "240/240 [==============================] - 0s 647us/step - loss: 21.0264\n",
      "Epoch 51/100\n",
      "240/240 [==============================] - 0s 649us/step - loss: 20.9930\n",
      "Epoch 52/100\n",
      "240/240 [==============================] - 0s 654us/step - loss: 20.9118\n",
      "Epoch 53/100\n",
      "240/240 [==============================] - 0s 647us/step - loss: 20.8706\n",
      "Epoch 54/100\n",
      "240/240 [==============================] - 0s 642us/step - loss: 20.9259\n",
      "Epoch 55/100\n",
      "240/240 [==============================] - 0s 643us/step - loss: 20.8659\n",
      "Epoch 56/100\n",
      "240/240 [==============================] - 0s 643us/step - loss: 20.8707\n",
      "Epoch 57/100\n",
      "240/240 [==============================] - 0s 649us/step - loss: 20.8526\n",
      "Epoch 58/100\n",
      "240/240 [==============================] - 0s 647us/step - loss: 20.8779\n",
      "Epoch 59/100\n",
      "240/240 [==============================] - 0s 659us/step - loss: 20.8549\n",
      "Epoch 60/100\n",
      "240/240 [==============================] - 0s 648us/step - loss: 20.8151\n",
      "Epoch 61/100\n",
      "240/240 [==============================] - 0s 644us/step - loss: 20.9356\n",
      "Epoch 62/100\n",
      "240/240 [==============================] - 0s 667us/step - loss: 20.9432\n",
      "Epoch 63/100\n",
      "240/240 [==============================] - 0s 655us/step - loss: 20.8582\n",
      "Epoch 64/100\n",
      "240/240 [==============================] - 0s 656us/step - loss: 20.7784\n",
      "Epoch 65/100\n",
      "240/240 [==============================] - 0s 653us/step - loss: 20.7986\n",
      "Epoch 66/100\n",
      "240/240 [==============================] - 0s 644us/step - loss: 20.7586\n",
      "Epoch 67/100\n",
      "240/240 [==============================] - 0s 657us/step - loss: 20.9680\n",
      "Epoch 68/100\n",
      "240/240 [==============================] - 0s 653us/step - loss: 20.7210\n",
      "Epoch 69/100\n",
      "240/240 [==============================] - 0s 659us/step - loss: 20.6935\n",
      "Epoch 70/100\n",
      "240/240 [==============================] - 0s 653us/step - loss: 20.7770\n",
      "Epoch 71/100\n",
      "240/240 [==============================] - 0s 647us/step - loss: 20.8216\n",
      "Epoch 72/100\n",
      "240/240 [==============================] - 0s 646us/step - loss: 20.8955\n",
      "Epoch 73/100\n",
      "240/240 [==============================] - 0s 652us/step - loss: 20.8870\n",
      "Epoch 74/100\n",
      "240/240 [==============================] - 0s 649us/step - loss: 20.7433\n",
      "Epoch 75/100\n",
      "240/240 [==============================] - 0s 650us/step - loss: 20.8227\n",
      "Epoch 76/100\n",
      "240/240 [==============================] - 0s 650us/step - loss: 20.8581\n",
      "Epoch 77/100\n",
      "240/240 [==============================] - 0s 648us/step - loss: 20.7125\n",
      "Epoch 78/100\n",
      "240/240 [==============================] - 0s 646us/step - loss: 20.6552\n",
      "Epoch 79/100\n",
      "240/240 [==============================] - 0s 651us/step - loss: 20.7287\n",
      "Epoch 80/100\n",
      "240/240 [==============================] - 0s 640us/step - loss: 20.6948\n",
      "Epoch 81/100\n",
      "240/240 [==============================] - 0s 636us/step - loss: 20.8804\n",
      "Epoch 82/100\n",
      "240/240 [==============================] - 0s 653us/step - loss: 20.7228\n",
      "Epoch 83/100\n",
      "240/240 [==============================] - 0s 657us/step - loss: 20.7673\n",
      "Epoch 84/100\n",
      "240/240 [==============================] - 0s 649us/step - loss: 20.7814\n",
      "Epoch 85/100\n",
      "240/240 [==============================] - 0s 662us/step - loss: 20.8086\n",
      "Epoch 86/100\n",
      "240/240 [==============================] - 0s 668us/step - loss: 20.7483\n",
      "Epoch 87/100\n",
      "240/240 [==============================] - 0s 667us/step - loss: 20.7333\n",
      "Epoch 88/100\n",
      "240/240 [==============================] - 0s 651us/step - loss: 20.7707\n",
      "Epoch 89/100\n",
      "240/240 [==============================] - 0s 659us/step - loss: 20.6859\n",
      "Epoch 90/100\n",
      "240/240 [==============================] - 0s 646us/step - loss: 20.7726\n",
      "Epoch 91/100\n",
      "240/240 [==============================] - 0s 651us/step - loss: 20.8640\n",
      "Epoch 92/100\n",
      "240/240 [==============================] - 0s 649us/step - loss: 20.6783\n",
      "Epoch 93/100\n"
     ]
    },
    {
     "name": "stdout",
     "output_type": "stream",
     "text": [
      "240/240 [==============================] - 0s 639us/step - loss: 20.7443\n",
      "Epoch 94/100\n",
      "240/240 [==============================] - 0s 643us/step - loss: 20.7326\n",
      "Epoch 95/100\n",
      "240/240 [==============================] - 0s 648us/step - loss: 20.9075\n",
      "Epoch 96/100\n",
      "240/240 [==============================] - 0s 651us/step - loss: 20.8215\n",
      "Epoch 97/100\n",
      "240/240 [==============================] - 0s 649us/step - loss: 20.8013\n",
      "Epoch 98/100\n",
      "240/240 [==============================] - 0s 656us/step - loss: 20.8176\n",
      "Epoch 99/100\n",
      "240/240 [==============================] - 0s 660us/step - loss: 20.6817\n",
      "Epoch 100/100\n",
      "240/240 [==============================] - 0s 650us/step - loss: 20.6903\n"
     ]
    },
    {
     "data": {
      "text/plain": [
       "<keras.src.callbacks.History at 0x17684c1e2d0>"
      ]
     },
     "execution_count": 11,
     "metadata": {},
     "output_type": "execute_result"
    }
   ],
   "source": [
    "ann.fit(X_train, y_train, batch_size = 32, epochs = 100)"
   ]
  },
  {
   "cell_type": "markdown",
   "id": "76c964b3",
   "metadata": {},
   "source": [
    "##### Prediction"
   ]
  },
  {
   "cell_type": "code",
   "execution_count": 12,
   "id": "a7f04743",
   "metadata": {
    "scrolled": true
   },
   "outputs": [
    {
     "name": "stdout",
     "output_type": "stream",
     "text": [
      "60/60 [==============================] - 0s 593us/step\n",
      "[[431.21 431.23]\n",
      " [458.46 460.01]\n",
      " [462.82 461.14]\n",
      " ...\n",
      " [469.35 473.26]\n",
      " [441.85 438.  ]\n",
      " [461.34 463.28]]\n"
     ]
    }
   ],
   "source": [
    "y_pred = ann.predict(X_test)\n",
    "np.set_printoptions(precision = 2)\n",
    "print(np.concatenate((y_pred.reshape(len(y_pred), 1), y_test.reshape(len(y_test), 1)), 1))"
   ]
  },
  {
   "cell_type": "markdown",
   "id": "8f98e16e",
   "metadata": {},
   "source": [
    "#####  Evaluation"
   ]
  },
  {
   "cell_type": "code",
   "execution_count": 13,
   "id": "81e2519b",
   "metadata": {},
   "outputs": [
    {
     "data": {
      "text/plain": [
       "0.9351991677049638"
      ]
     },
     "execution_count": 13,
     "metadata": {},
     "output_type": "execute_result"
    }
   ],
   "source": [
    "from sklearn.metrics import r2_score\n",
    "r2_score(y_test, y_pred)"
   ]
  }
 ],
 "metadata": {
  "kernelspec": {
   "display_name": "Python 3 (ipykernel)",
   "language": "python",
   "name": "python3"
  },
  "language_info": {
   "codemirror_mode": {
    "name": "ipython",
    "version": 3
   },
   "file_extension": ".py",
   "mimetype": "text/x-python",
   "name": "python",
   "nbconvert_exporter": "python",
   "pygments_lexer": "ipython3",
   "version": "3.11.5"
  }
 },
 "nbformat": 4,
 "nbformat_minor": 5
}
