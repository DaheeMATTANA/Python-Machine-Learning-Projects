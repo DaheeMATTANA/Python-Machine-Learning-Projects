{
 "cells": [
  {
   "cell_type": "markdown",
   "id": "3b76fc61",
   "metadata": {},
   "source": [
    "## Data"
   ]
  },
  {
   "cell_type": "code",
   "execution_count": 139,
   "id": "6b2c5fd9",
   "metadata": {},
   "outputs": [],
   "source": [
    "import pandas as pd\n",
    "import numpy as np\n",
    "import matplotlib.pyplot as plt\n",
    "import seaborn as sns\n",
    "%matplotlib inline\n",
    "import warnings\n",
    "warnings.filterwarnings('ignore')"
   ]
  },
  {
   "cell_type": "code",
   "execution_count": 140,
   "id": "e6c52445",
   "metadata": {},
   "outputs": [],
   "source": [
    "df = pd.read_csv('automobile.csv', header = None, na_values = '?')"
   ]
  },
  {
   "cell_type": "code",
   "execution_count": 141,
   "id": "3b9fa6a3",
   "metadata": {},
   "outputs": [
    {
     "data": {
      "text/html": [
       "<div>\n",
       "<style scoped>\n",
       "    .dataframe tbody tr th:only-of-type {\n",
       "        vertical-align: middle;\n",
       "    }\n",
       "\n",
       "    .dataframe tbody tr th {\n",
       "        vertical-align: top;\n",
       "    }\n",
       "\n",
       "    .dataframe thead th {\n",
       "        text-align: right;\n",
       "    }\n",
       "</style>\n",
       "<table border=\"1\" class=\"dataframe\">\n",
       "  <thead>\n",
       "    <tr style=\"text-align: right;\">\n",
       "      <th></th>\n",
       "      <th>0</th>\n",
       "      <th>1</th>\n",
       "      <th>2</th>\n",
       "      <th>3</th>\n",
       "      <th>4</th>\n",
       "      <th>5</th>\n",
       "      <th>6</th>\n",
       "      <th>7</th>\n",
       "      <th>8</th>\n",
       "      <th>9</th>\n",
       "      <th>...</th>\n",
       "      <th>16</th>\n",
       "      <th>17</th>\n",
       "      <th>18</th>\n",
       "      <th>19</th>\n",
       "      <th>20</th>\n",
       "      <th>21</th>\n",
       "      <th>22</th>\n",
       "      <th>23</th>\n",
       "      <th>24</th>\n",
       "      <th>25</th>\n",
       "    </tr>\n",
       "  </thead>\n",
       "  <tbody>\n",
       "    <tr>\n",
       "      <th>0</th>\n",
       "      <td>3</td>\n",
       "      <td>NaN</td>\n",
       "      <td>alfa-romero</td>\n",
       "      <td>gas</td>\n",
       "      <td>std</td>\n",
       "      <td>two</td>\n",
       "      <td>convertible</td>\n",
       "      <td>rwd</td>\n",
       "      <td>front</td>\n",
       "      <td>88.6</td>\n",
       "      <td>...</td>\n",
       "      <td>130</td>\n",
       "      <td>mpfi</td>\n",
       "      <td>3.47</td>\n",
       "      <td>2.68</td>\n",
       "      <td>9.0</td>\n",
       "      <td>111.0</td>\n",
       "      <td>5000.0</td>\n",
       "      <td>21</td>\n",
       "      <td>27</td>\n",
       "      <td>13495.0</td>\n",
       "    </tr>\n",
       "    <tr>\n",
       "      <th>1</th>\n",
       "      <td>3</td>\n",
       "      <td>NaN</td>\n",
       "      <td>alfa-romero</td>\n",
       "      <td>gas</td>\n",
       "      <td>std</td>\n",
       "      <td>two</td>\n",
       "      <td>convertible</td>\n",
       "      <td>rwd</td>\n",
       "      <td>front</td>\n",
       "      <td>88.6</td>\n",
       "      <td>...</td>\n",
       "      <td>130</td>\n",
       "      <td>mpfi</td>\n",
       "      <td>3.47</td>\n",
       "      <td>2.68</td>\n",
       "      <td>9.0</td>\n",
       "      <td>111.0</td>\n",
       "      <td>5000.0</td>\n",
       "      <td>21</td>\n",
       "      <td>27</td>\n",
       "      <td>16500.0</td>\n",
       "    </tr>\n",
       "    <tr>\n",
       "      <th>2</th>\n",
       "      <td>1</td>\n",
       "      <td>NaN</td>\n",
       "      <td>alfa-romero</td>\n",
       "      <td>gas</td>\n",
       "      <td>std</td>\n",
       "      <td>two</td>\n",
       "      <td>hatchback</td>\n",
       "      <td>rwd</td>\n",
       "      <td>front</td>\n",
       "      <td>94.5</td>\n",
       "      <td>...</td>\n",
       "      <td>152</td>\n",
       "      <td>mpfi</td>\n",
       "      <td>2.68</td>\n",
       "      <td>3.47</td>\n",
       "      <td>9.0</td>\n",
       "      <td>154.0</td>\n",
       "      <td>5000.0</td>\n",
       "      <td>19</td>\n",
       "      <td>26</td>\n",
       "      <td>16500.0</td>\n",
       "    </tr>\n",
       "    <tr>\n",
       "      <th>3</th>\n",
       "      <td>2</td>\n",
       "      <td>164.0</td>\n",
       "      <td>audi</td>\n",
       "      <td>gas</td>\n",
       "      <td>std</td>\n",
       "      <td>four</td>\n",
       "      <td>sedan</td>\n",
       "      <td>fwd</td>\n",
       "      <td>front</td>\n",
       "      <td>99.8</td>\n",
       "      <td>...</td>\n",
       "      <td>109</td>\n",
       "      <td>mpfi</td>\n",
       "      <td>3.19</td>\n",
       "      <td>3.40</td>\n",
       "      <td>10.0</td>\n",
       "      <td>102.0</td>\n",
       "      <td>5500.0</td>\n",
       "      <td>24</td>\n",
       "      <td>30</td>\n",
       "      <td>13950.0</td>\n",
       "    </tr>\n",
       "    <tr>\n",
       "      <th>4</th>\n",
       "      <td>2</td>\n",
       "      <td>164.0</td>\n",
       "      <td>audi</td>\n",
       "      <td>gas</td>\n",
       "      <td>std</td>\n",
       "      <td>four</td>\n",
       "      <td>sedan</td>\n",
       "      <td>4wd</td>\n",
       "      <td>front</td>\n",
       "      <td>99.4</td>\n",
       "      <td>...</td>\n",
       "      <td>136</td>\n",
       "      <td>mpfi</td>\n",
       "      <td>3.19</td>\n",
       "      <td>3.40</td>\n",
       "      <td>8.0</td>\n",
       "      <td>115.0</td>\n",
       "      <td>5500.0</td>\n",
       "      <td>18</td>\n",
       "      <td>22</td>\n",
       "      <td>17450.0</td>\n",
       "    </tr>\n",
       "  </tbody>\n",
       "</table>\n",
       "<p>5 rows × 26 columns</p>\n",
       "</div>"
      ],
      "text/plain": [
       "   0      1            2    3    4     5            6    7      8     9   ...  \\\n",
       "0   3    NaN  alfa-romero  gas  std   two  convertible  rwd  front  88.6  ...   \n",
       "1   3    NaN  alfa-romero  gas  std   two  convertible  rwd  front  88.6  ...   \n",
       "2   1    NaN  alfa-romero  gas  std   two    hatchback  rwd  front  94.5  ...   \n",
       "3   2  164.0         audi  gas  std  four        sedan  fwd  front  99.8  ...   \n",
       "4   2  164.0         audi  gas  std  four        sedan  4wd  front  99.4  ...   \n",
       "\n",
       "    16    17    18    19    20     21      22  23  24       25  \n",
       "0  130  mpfi  3.47  2.68   9.0  111.0  5000.0  21  27  13495.0  \n",
       "1  130  mpfi  3.47  2.68   9.0  111.0  5000.0  21  27  16500.0  \n",
       "2  152  mpfi  2.68  3.47   9.0  154.0  5000.0  19  26  16500.0  \n",
       "3  109  mpfi  3.19  3.40  10.0  102.0  5500.0  24  30  13950.0  \n",
       "4  136  mpfi  3.19  3.40   8.0  115.0  5500.0  18  22  17450.0  \n",
       "\n",
       "[5 rows x 26 columns]"
      ]
     },
     "execution_count": 141,
     "metadata": {},
     "output_type": "execute_result"
    }
   ],
   "source": [
    "df.head()"
   ]
  },
  {
   "cell_type": "code",
   "execution_count": 142,
   "id": "d325fdb1",
   "metadata": {},
   "outputs": [],
   "source": [
    "df.columns = ['symboling', 'normalized_losses', 'make', 'fuel_type', 'aspiration', 'num_of_doors',\n",
    "              'body_style', 'drive_wheels', 'engine_location', 'wheel_base', 'length',\n",
    "              'width', 'height', 'curb_weight', 'engine_type', 'num_of_cylinders', 'engine_size',\n",
    "              'fuel_system', 'bore', 'stroke', 'compression_ratio', 'horsepower', 'peak_rpm', 'city_mpg',\n",
    "              'highway_mpg', 'price']"
   ]
  },
  {
   "cell_type": "markdown",
   "id": "d1228083",
   "metadata": {},
   "source": [
    "## Preprocessing - Missing Values"
   ]
  },
  {
   "cell_type": "code",
   "execution_count": 143,
   "id": "e8eb89d1",
   "metadata": {},
   "outputs": [
    {
     "data": {
      "text/plain": [
       "symboling             0\n",
       "normalized_losses    41\n",
       "make                  0\n",
       "fuel_type             0\n",
       "aspiration            0\n",
       "num_of_doors          2\n",
       "body_style            0\n",
       "drive_wheels          0\n",
       "engine_location       0\n",
       "wheel_base            0\n",
       "length                0\n",
       "width                 0\n",
       "height                0\n",
       "curb_weight           0\n",
       "engine_type           0\n",
       "num_of_cylinders      0\n",
       "engine_size           0\n",
       "fuel_system           0\n",
       "bore                  4\n",
       "stroke                4\n",
       "compression_ratio     0\n",
       "horsepower            2\n",
       "peak_rpm              2\n",
       "city_mpg              0\n",
       "highway_mpg           0\n",
       "price                 4\n",
       "dtype: int64"
      ]
     },
     "execution_count": 143,
     "metadata": {},
     "output_type": "execute_result"
    }
   ],
   "source": [
    "df.isnull().sum()"
   ]
  },
  {
   "cell_type": "markdown",
   "id": "b0e04e3e",
   "metadata": {},
   "source": [
    "##### Missing Values : normalized_losses Column"
   ]
  },
  {
   "cell_type": "markdown",
   "id": "b68e8f55",
   "metadata": {},
   "source": [
    "* method : fill with the global mean value"
   ]
  },
  {
   "cell_type": "code",
   "execution_count": 144,
   "id": "b59549ea",
   "metadata": {},
   "outputs": [],
   "source": [
    "df['normalized_losses'] = df['normalized_losses'].fillna(value = df['normalized_losses'].mean())"
   ]
  },
  {
   "cell_type": "markdown",
   "id": "3ef68fdb",
   "metadata": {},
   "source": [
    "##### Missing Values : num_of_doors Column"
   ]
  },
  {
   "cell_type": "code",
   "execution_count": 145,
   "id": "1cef0341",
   "metadata": {},
   "outputs": [
    {
     "data": {
      "text/plain": [
       "27    sedan\n",
       "63    sedan\n",
       "Name: body_style, dtype: object"
      ]
     },
     "execution_count": 145,
     "metadata": {},
     "output_type": "execute_result"
    }
   ],
   "source": [
    "df[df['num_of_doors'].isnull() == True]['body_style']"
   ]
  },
  {
   "cell_type": "markdown",
   "id": "7bf250d5",
   "metadata": {},
   "source": [
    "* Vehicles with missing number of doors informations are ALL SEDANS"
   ]
  },
  {
   "cell_type": "code",
   "execution_count": 146,
   "id": "6a865176",
   "metadata": {},
   "outputs": [
    {
     "data": {
      "text/plain": [
       "num_of_doors\n",
       "four    79\n",
       "two     15\n",
       "Name: count, dtype: int64"
      ]
     },
     "execution_count": 146,
     "metadata": {},
     "output_type": "execute_result"
    }
   ],
   "source": [
    "# Let's have a look at the number of doors other sedans have\n",
    "df[df['body_style'] == 'sedan']['num_of_doors'].value_counts()"
   ]
  },
  {
   "cell_type": "markdown",
   "id": "0b5106db",
   "metadata": {},
   "source": [
    "* Most of the sedans (84%) have four doors"
   ]
  },
  {
   "cell_type": "code",
   "execution_count": 147,
   "id": "ca17484f",
   "metadata": {},
   "outputs": [
    {
     "data": {
      "text/plain": [
       "27    157.3\n",
       "63    177.8\n",
       "Name: length, dtype: float64"
      ]
     },
     "execution_count": 147,
     "metadata": {},
     "output_type": "execute_result"
    }
   ],
   "source": [
    "# Let's also have a look at the length of these vehicles\n",
    "df[df['num_of_doors'].isnull() == True]['length']"
   ]
  },
  {
   "cell_type": "code",
   "execution_count": 148,
   "id": "a91c223d",
   "metadata": {},
   "outputs": [
    {
     "data": {
      "text/plain": [
       "num_of_doors\n",
       "four    2\n",
       "Name: count, dtype: int64"
      ]
     },
     "execution_count": 148,
     "metadata": {},
     "output_type": "execute_result"
    }
   ],
   "source": [
    "# Num_of_doors of vehicles which are sedan & have the same length as the missing value vehicle 27\n",
    "df[(df['body_style'] == 'sedan') & (df['length'] == 157.3)]['num_of_doors'].value_counts()"
   ]
  },
  {
   "cell_type": "code",
   "execution_count": 149,
   "id": "d5df430a",
   "metadata": {},
   "outputs": [
    {
     "data": {
      "text/plain": [
       "num_of_doors\n",
       "four    2\n",
       "Name: count, dtype: int64"
      ]
     },
     "execution_count": 149,
     "metadata": {},
     "output_type": "execute_result"
    }
   ],
   "source": [
    "# Num_of_doors of vehicles which are sedan & have the same length as the missing value vehicle 63\n",
    "df[(df['body_style'] == 'sedan') & (df['length'] == 177.8)]['num_of_doors'].value_counts()"
   ]
  },
  {
   "cell_type": "markdown",
   "id": "2cd0795f",
   "metadata": {},
   "source": [
    "* After these features study, our vehicles data with missing num_of_doors value most likely has four doors\n",
    "<br>\n",
    "We will impute values of four doors for these data"
   ]
  },
  {
   "cell_type": "code",
   "execution_count": 150,
   "id": "5892171f",
   "metadata": {},
   "outputs": [],
   "source": [
    "df['num_of_doors'] = df['num_of_doors'].fillna(value = 'four')"
   ]
  },
  {
   "cell_type": "markdown",
   "id": "00f9ddc7",
   "metadata": {},
   "source": [
    "##### Missing Values : bore & stroke Columns"
   ]
  },
  {
   "cell_type": "code",
   "execution_count": 151,
   "id": "9cca8031",
   "metadata": {},
   "outputs": [
    {
     "data": {
      "text/html": [
       "<div>\n",
       "<style scoped>\n",
       "    .dataframe tbody tr th:only-of-type {\n",
       "        vertical-align: middle;\n",
       "    }\n",
       "\n",
       "    .dataframe tbody tr th {\n",
       "        vertical-align: top;\n",
       "    }\n",
       "\n",
       "    .dataframe thead th {\n",
       "        text-align: right;\n",
       "    }\n",
       "</style>\n",
       "<table border=\"1\" class=\"dataframe\">\n",
       "  <thead>\n",
       "    <tr style=\"text-align: right;\">\n",
       "      <th></th>\n",
       "      <th>symboling</th>\n",
       "      <th>normalized_losses</th>\n",
       "      <th>make</th>\n",
       "      <th>fuel_type</th>\n",
       "      <th>aspiration</th>\n",
       "      <th>num_of_doors</th>\n",
       "      <th>body_style</th>\n",
       "      <th>drive_wheels</th>\n",
       "      <th>engine_location</th>\n",
       "      <th>wheel_base</th>\n",
       "      <th>...</th>\n",
       "      <th>engine_size</th>\n",
       "      <th>fuel_system</th>\n",
       "      <th>bore</th>\n",
       "      <th>stroke</th>\n",
       "      <th>compression_ratio</th>\n",
       "      <th>horsepower</th>\n",
       "      <th>peak_rpm</th>\n",
       "      <th>city_mpg</th>\n",
       "      <th>highway_mpg</th>\n",
       "      <th>price</th>\n",
       "    </tr>\n",
       "  </thead>\n",
       "  <tbody>\n",
       "    <tr>\n",
       "      <th>55</th>\n",
       "      <td>3</td>\n",
       "      <td>150.0</td>\n",
       "      <td>mazda</td>\n",
       "      <td>gas</td>\n",
       "      <td>std</td>\n",
       "      <td>two</td>\n",
       "      <td>hatchback</td>\n",
       "      <td>rwd</td>\n",
       "      <td>front</td>\n",
       "      <td>95.3</td>\n",
       "      <td>...</td>\n",
       "      <td>70</td>\n",
       "      <td>4bbl</td>\n",
       "      <td>NaN</td>\n",
       "      <td>NaN</td>\n",
       "      <td>9.4</td>\n",
       "      <td>101.0</td>\n",
       "      <td>6000.0</td>\n",
       "      <td>17</td>\n",
       "      <td>23</td>\n",
       "      <td>10945.0</td>\n",
       "    </tr>\n",
       "    <tr>\n",
       "      <th>56</th>\n",
       "      <td>3</td>\n",
       "      <td>150.0</td>\n",
       "      <td>mazda</td>\n",
       "      <td>gas</td>\n",
       "      <td>std</td>\n",
       "      <td>two</td>\n",
       "      <td>hatchback</td>\n",
       "      <td>rwd</td>\n",
       "      <td>front</td>\n",
       "      <td>95.3</td>\n",
       "      <td>...</td>\n",
       "      <td>70</td>\n",
       "      <td>4bbl</td>\n",
       "      <td>NaN</td>\n",
       "      <td>NaN</td>\n",
       "      <td>9.4</td>\n",
       "      <td>101.0</td>\n",
       "      <td>6000.0</td>\n",
       "      <td>17</td>\n",
       "      <td>23</td>\n",
       "      <td>11845.0</td>\n",
       "    </tr>\n",
       "    <tr>\n",
       "      <th>57</th>\n",
       "      <td>3</td>\n",
       "      <td>150.0</td>\n",
       "      <td>mazda</td>\n",
       "      <td>gas</td>\n",
       "      <td>std</td>\n",
       "      <td>two</td>\n",
       "      <td>hatchback</td>\n",
       "      <td>rwd</td>\n",
       "      <td>front</td>\n",
       "      <td>95.3</td>\n",
       "      <td>...</td>\n",
       "      <td>70</td>\n",
       "      <td>4bbl</td>\n",
       "      <td>NaN</td>\n",
       "      <td>NaN</td>\n",
       "      <td>9.4</td>\n",
       "      <td>101.0</td>\n",
       "      <td>6000.0</td>\n",
       "      <td>17</td>\n",
       "      <td>23</td>\n",
       "      <td>13645.0</td>\n",
       "    </tr>\n",
       "    <tr>\n",
       "      <th>58</th>\n",
       "      <td>3</td>\n",
       "      <td>150.0</td>\n",
       "      <td>mazda</td>\n",
       "      <td>gas</td>\n",
       "      <td>std</td>\n",
       "      <td>two</td>\n",
       "      <td>hatchback</td>\n",
       "      <td>rwd</td>\n",
       "      <td>front</td>\n",
       "      <td>95.3</td>\n",
       "      <td>...</td>\n",
       "      <td>80</td>\n",
       "      <td>mpfi</td>\n",
       "      <td>NaN</td>\n",
       "      <td>NaN</td>\n",
       "      <td>9.4</td>\n",
       "      <td>135.0</td>\n",
       "      <td>6000.0</td>\n",
       "      <td>16</td>\n",
       "      <td>23</td>\n",
       "      <td>15645.0</td>\n",
       "    </tr>\n",
       "  </tbody>\n",
       "</table>\n",
       "<p>4 rows × 26 columns</p>\n",
       "</div>"
      ],
      "text/plain": [
       "    symboling  normalized_losses   make fuel_type aspiration num_of_doors  \\\n",
       "55          3              150.0  mazda       gas        std          two   \n",
       "56          3              150.0  mazda       gas        std          two   \n",
       "57          3              150.0  mazda       gas        std          two   \n",
       "58          3              150.0  mazda       gas        std          two   \n",
       "\n",
       "   body_style drive_wheels engine_location  wheel_base  ...  engine_size  \\\n",
       "55  hatchback          rwd           front        95.3  ...           70   \n",
       "56  hatchback          rwd           front        95.3  ...           70   \n",
       "57  hatchback          rwd           front        95.3  ...           70   \n",
       "58  hatchback          rwd           front        95.3  ...           80   \n",
       "\n",
       "    fuel_system  bore  stroke compression_ratio horsepower  peak_rpm city_mpg  \\\n",
       "55         4bbl   NaN     NaN               9.4      101.0    6000.0       17   \n",
       "56         4bbl   NaN     NaN               9.4      101.0    6000.0       17   \n",
       "57         4bbl   NaN     NaN               9.4      101.0    6000.0       17   \n",
       "58         mpfi   NaN     NaN               9.4      135.0    6000.0       16   \n",
       "\n",
       "    highway_mpg    price  \n",
       "55           23  10945.0  \n",
       "56           23  11845.0  \n",
       "57           23  13645.0  \n",
       "58           23  15645.0  \n",
       "\n",
       "[4 rows x 26 columns]"
      ]
     },
     "execution_count": 151,
     "metadata": {},
     "output_type": "execute_result"
    }
   ],
   "source": [
    "df[df['bore'].isnull() == True]"
   ]
  },
  {
   "cell_type": "code",
   "execution_count": 152,
   "id": "1697df51",
   "metadata": {},
   "outputs": [
    {
     "data": {
      "text/html": [
       "<div>\n",
       "<style scoped>\n",
       "    .dataframe tbody tr th:only-of-type {\n",
       "        vertical-align: middle;\n",
       "    }\n",
       "\n",
       "    .dataframe tbody tr th {\n",
       "        vertical-align: top;\n",
       "    }\n",
       "\n",
       "    .dataframe thead th {\n",
       "        text-align: right;\n",
       "    }\n",
       "</style>\n",
       "<table border=\"1\" class=\"dataframe\">\n",
       "  <thead>\n",
       "    <tr style=\"text-align: right;\">\n",
       "      <th></th>\n",
       "      <th>symboling</th>\n",
       "      <th>normalized_losses</th>\n",
       "      <th>make</th>\n",
       "      <th>fuel_type</th>\n",
       "      <th>aspiration</th>\n",
       "      <th>num_of_doors</th>\n",
       "      <th>body_style</th>\n",
       "      <th>drive_wheels</th>\n",
       "      <th>engine_location</th>\n",
       "      <th>wheel_base</th>\n",
       "      <th>...</th>\n",
       "      <th>engine_size</th>\n",
       "      <th>fuel_system</th>\n",
       "      <th>bore</th>\n",
       "      <th>stroke</th>\n",
       "      <th>compression_ratio</th>\n",
       "      <th>horsepower</th>\n",
       "      <th>peak_rpm</th>\n",
       "      <th>city_mpg</th>\n",
       "      <th>highway_mpg</th>\n",
       "      <th>price</th>\n",
       "    </tr>\n",
       "  </thead>\n",
       "  <tbody>\n",
       "    <tr>\n",
       "      <th>55</th>\n",
       "      <td>3</td>\n",
       "      <td>150.0</td>\n",
       "      <td>mazda</td>\n",
       "      <td>gas</td>\n",
       "      <td>std</td>\n",
       "      <td>two</td>\n",
       "      <td>hatchback</td>\n",
       "      <td>rwd</td>\n",
       "      <td>front</td>\n",
       "      <td>95.3</td>\n",
       "      <td>...</td>\n",
       "      <td>70</td>\n",
       "      <td>4bbl</td>\n",
       "      <td>NaN</td>\n",
       "      <td>NaN</td>\n",
       "      <td>9.4</td>\n",
       "      <td>101.0</td>\n",
       "      <td>6000.0</td>\n",
       "      <td>17</td>\n",
       "      <td>23</td>\n",
       "      <td>10945.0</td>\n",
       "    </tr>\n",
       "    <tr>\n",
       "      <th>56</th>\n",
       "      <td>3</td>\n",
       "      <td>150.0</td>\n",
       "      <td>mazda</td>\n",
       "      <td>gas</td>\n",
       "      <td>std</td>\n",
       "      <td>two</td>\n",
       "      <td>hatchback</td>\n",
       "      <td>rwd</td>\n",
       "      <td>front</td>\n",
       "      <td>95.3</td>\n",
       "      <td>...</td>\n",
       "      <td>70</td>\n",
       "      <td>4bbl</td>\n",
       "      <td>NaN</td>\n",
       "      <td>NaN</td>\n",
       "      <td>9.4</td>\n",
       "      <td>101.0</td>\n",
       "      <td>6000.0</td>\n",
       "      <td>17</td>\n",
       "      <td>23</td>\n",
       "      <td>11845.0</td>\n",
       "    </tr>\n",
       "    <tr>\n",
       "      <th>57</th>\n",
       "      <td>3</td>\n",
       "      <td>150.0</td>\n",
       "      <td>mazda</td>\n",
       "      <td>gas</td>\n",
       "      <td>std</td>\n",
       "      <td>two</td>\n",
       "      <td>hatchback</td>\n",
       "      <td>rwd</td>\n",
       "      <td>front</td>\n",
       "      <td>95.3</td>\n",
       "      <td>...</td>\n",
       "      <td>70</td>\n",
       "      <td>4bbl</td>\n",
       "      <td>NaN</td>\n",
       "      <td>NaN</td>\n",
       "      <td>9.4</td>\n",
       "      <td>101.0</td>\n",
       "      <td>6000.0</td>\n",
       "      <td>17</td>\n",
       "      <td>23</td>\n",
       "      <td>13645.0</td>\n",
       "    </tr>\n",
       "    <tr>\n",
       "      <th>58</th>\n",
       "      <td>3</td>\n",
       "      <td>150.0</td>\n",
       "      <td>mazda</td>\n",
       "      <td>gas</td>\n",
       "      <td>std</td>\n",
       "      <td>two</td>\n",
       "      <td>hatchback</td>\n",
       "      <td>rwd</td>\n",
       "      <td>front</td>\n",
       "      <td>95.3</td>\n",
       "      <td>...</td>\n",
       "      <td>80</td>\n",
       "      <td>mpfi</td>\n",
       "      <td>NaN</td>\n",
       "      <td>NaN</td>\n",
       "      <td>9.4</td>\n",
       "      <td>135.0</td>\n",
       "      <td>6000.0</td>\n",
       "      <td>16</td>\n",
       "      <td>23</td>\n",
       "      <td>15645.0</td>\n",
       "    </tr>\n",
       "  </tbody>\n",
       "</table>\n",
       "<p>4 rows × 26 columns</p>\n",
       "</div>"
      ],
      "text/plain": [
       "    symboling  normalized_losses   make fuel_type aspiration num_of_doors  \\\n",
       "55          3              150.0  mazda       gas        std          two   \n",
       "56          3              150.0  mazda       gas        std          two   \n",
       "57          3              150.0  mazda       gas        std          two   \n",
       "58          3              150.0  mazda       gas        std          two   \n",
       "\n",
       "   body_style drive_wheels engine_location  wheel_base  ...  engine_size  \\\n",
       "55  hatchback          rwd           front        95.3  ...           70   \n",
       "56  hatchback          rwd           front        95.3  ...           70   \n",
       "57  hatchback          rwd           front        95.3  ...           70   \n",
       "58  hatchback          rwd           front        95.3  ...           80   \n",
       "\n",
       "    fuel_system  bore  stroke compression_ratio horsepower  peak_rpm city_mpg  \\\n",
       "55         4bbl   NaN     NaN               9.4      101.0    6000.0       17   \n",
       "56         4bbl   NaN     NaN               9.4      101.0    6000.0       17   \n",
       "57         4bbl   NaN     NaN               9.4      101.0    6000.0       17   \n",
       "58         mpfi   NaN     NaN               9.4      135.0    6000.0       16   \n",
       "\n",
       "    highway_mpg    price  \n",
       "55           23  10945.0  \n",
       "56           23  11845.0  \n",
       "57           23  13645.0  \n",
       "58           23  15645.0  \n",
       "\n",
       "[4 rows x 26 columns]"
      ]
     },
     "execution_count": 152,
     "metadata": {},
     "output_type": "execute_result"
    }
   ],
   "source": [
    "df[df['stroke'].isnull() == True]\n",
    "# Bore and Stroke value is missing for the same vehicles"
   ]
  },
  {
   "cell_type": "code",
   "execution_count": 153,
   "id": "9e0fb683",
   "metadata": {},
   "outputs": [
    {
     "data": {
      "text/plain": [
       "126.90731707317073"
      ]
     },
     "execution_count": 153,
     "metadata": {},
     "output_type": "execute_result"
    }
   ],
   "source": [
    "df['engine_size'].mean()\n",
    "# These vehicles engine size is significantly smaller than the average engine size of the whole data set"
   ]
  },
  {
   "cell_type": "code",
   "execution_count": 154,
   "id": "c4e8ed88",
   "metadata": {},
   "outputs": [
    {
     "data": {
      "text/html": [
       "<div>\n",
       "<style scoped>\n",
       "    .dataframe tbody tr th:only-of-type {\n",
       "        vertical-align: middle;\n",
       "    }\n",
       "\n",
       "    .dataframe tbody tr th {\n",
       "        vertical-align: top;\n",
       "    }\n",
       "\n",
       "    .dataframe thead th {\n",
       "        text-align: right;\n",
       "    }\n",
       "</style>\n",
       "<table border=\"1\" class=\"dataframe\">\n",
       "  <thead>\n",
       "    <tr style=\"text-align: right;\">\n",
       "      <th></th>\n",
       "      <th>symboling</th>\n",
       "      <th>normalized_losses</th>\n",
       "      <th>make</th>\n",
       "      <th>fuel_type</th>\n",
       "      <th>aspiration</th>\n",
       "      <th>num_of_doors</th>\n",
       "      <th>body_style</th>\n",
       "      <th>drive_wheels</th>\n",
       "      <th>engine_location</th>\n",
       "      <th>wheel_base</th>\n",
       "      <th>...</th>\n",
       "      <th>engine_size</th>\n",
       "      <th>fuel_system</th>\n",
       "      <th>bore</th>\n",
       "      <th>stroke</th>\n",
       "      <th>compression_ratio</th>\n",
       "      <th>horsepower</th>\n",
       "      <th>peak_rpm</th>\n",
       "      <th>city_mpg</th>\n",
       "      <th>highway_mpg</th>\n",
       "      <th>price</th>\n",
       "    </tr>\n",
       "  </thead>\n",
       "  <tbody>\n",
       "    <tr>\n",
       "      <th>55</th>\n",
       "      <td>3</td>\n",
       "      <td>150.0</td>\n",
       "      <td>mazda</td>\n",
       "      <td>gas</td>\n",
       "      <td>std</td>\n",
       "      <td>two</td>\n",
       "      <td>hatchback</td>\n",
       "      <td>rwd</td>\n",
       "      <td>front</td>\n",
       "      <td>95.3</td>\n",
       "      <td>...</td>\n",
       "      <td>70</td>\n",
       "      <td>4bbl</td>\n",
       "      <td>NaN</td>\n",
       "      <td>NaN</td>\n",
       "      <td>9.4</td>\n",
       "      <td>101.0</td>\n",
       "      <td>6000.0</td>\n",
       "      <td>17</td>\n",
       "      <td>23</td>\n",
       "      <td>10945.0</td>\n",
       "    </tr>\n",
       "    <tr>\n",
       "      <th>56</th>\n",
       "      <td>3</td>\n",
       "      <td>150.0</td>\n",
       "      <td>mazda</td>\n",
       "      <td>gas</td>\n",
       "      <td>std</td>\n",
       "      <td>two</td>\n",
       "      <td>hatchback</td>\n",
       "      <td>rwd</td>\n",
       "      <td>front</td>\n",
       "      <td>95.3</td>\n",
       "      <td>...</td>\n",
       "      <td>70</td>\n",
       "      <td>4bbl</td>\n",
       "      <td>NaN</td>\n",
       "      <td>NaN</td>\n",
       "      <td>9.4</td>\n",
       "      <td>101.0</td>\n",
       "      <td>6000.0</td>\n",
       "      <td>17</td>\n",
       "      <td>23</td>\n",
       "      <td>11845.0</td>\n",
       "    </tr>\n",
       "    <tr>\n",
       "      <th>57</th>\n",
       "      <td>3</td>\n",
       "      <td>150.0</td>\n",
       "      <td>mazda</td>\n",
       "      <td>gas</td>\n",
       "      <td>std</td>\n",
       "      <td>two</td>\n",
       "      <td>hatchback</td>\n",
       "      <td>rwd</td>\n",
       "      <td>front</td>\n",
       "      <td>95.3</td>\n",
       "      <td>...</td>\n",
       "      <td>70</td>\n",
       "      <td>4bbl</td>\n",
       "      <td>NaN</td>\n",
       "      <td>NaN</td>\n",
       "      <td>9.4</td>\n",
       "      <td>101.0</td>\n",
       "      <td>6000.0</td>\n",
       "      <td>17</td>\n",
       "      <td>23</td>\n",
       "      <td>13645.0</td>\n",
       "    </tr>\n",
       "    <tr>\n",
       "      <th>58</th>\n",
       "      <td>3</td>\n",
       "      <td>150.0</td>\n",
       "      <td>mazda</td>\n",
       "      <td>gas</td>\n",
       "      <td>std</td>\n",
       "      <td>two</td>\n",
       "      <td>hatchback</td>\n",
       "      <td>rwd</td>\n",
       "      <td>front</td>\n",
       "      <td>95.3</td>\n",
       "      <td>...</td>\n",
       "      <td>80</td>\n",
       "      <td>mpfi</td>\n",
       "      <td>NaN</td>\n",
       "      <td>NaN</td>\n",
       "      <td>9.4</td>\n",
       "      <td>135.0</td>\n",
       "      <td>6000.0</td>\n",
       "      <td>16</td>\n",
       "      <td>23</td>\n",
       "      <td>15645.0</td>\n",
       "    </tr>\n",
       "  </tbody>\n",
       "</table>\n",
       "<p>4 rows × 26 columns</p>\n",
       "</div>"
      ],
      "text/plain": [
       "    symboling  normalized_losses   make fuel_type aspiration num_of_doors  \\\n",
       "55          3              150.0  mazda       gas        std          two   \n",
       "56          3              150.0  mazda       gas        std          two   \n",
       "57          3              150.0  mazda       gas        std          two   \n",
       "58          3              150.0  mazda       gas        std          two   \n",
       "\n",
       "   body_style drive_wheels engine_location  wheel_base  ...  engine_size  \\\n",
       "55  hatchback          rwd           front        95.3  ...           70   \n",
       "56  hatchback          rwd           front        95.3  ...           70   \n",
       "57  hatchback          rwd           front        95.3  ...           70   \n",
       "58  hatchback          rwd           front        95.3  ...           80   \n",
       "\n",
       "    fuel_system  bore  stroke compression_ratio horsepower  peak_rpm city_mpg  \\\n",
       "55         4bbl   NaN     NaN               9.4      101.0    6000.0       17   \n",
       "56         4bbl   NaN     NaN               9.4      101.0    6000.0       17   \n",
       "57         4bbl   NaN     NaN               9.4      101.0    6000.0       17   \n",
       "58         mpfi   NaN     NaN               9.4      135.0    6000.0       16   \n",
       "\n",
       "    highway_mpg    price  \n",
       "55           23  10945.0  \n",
       "56           23  11845.0  \n",
       "57           23  13645.0  \n",
       "58           23  15645.0  \n",
       "\n",
       "[4 rows x 26 columns]"
      ]
     },
     "execution_count": 154,
     "metadata": {},
     "output_type": "execute_result"
    }
   ],
   "source": [
    "df[df['engine_type'] == 'rotor']"
   ]
  },
  {
   "cell_type": "markdown",
   "id": "c366173e",
   "metadata": {},
   "source": [
    "* Also, engine type 'rotor' is only for these four vehicles \n",
    "<br>\n",
    "Since we have a proof that it is a pretty special type of engine in our data set, \n",
    "<br>\n",
    "we can assume : That the measurement of bore and stroke does not apply to this type of engines"
   ]
  },
  {
   "cell_type": "code",
   "execution_count": 155,
   "id": "03fa8ec8",
   "metadata": {},
   "outputs": [
    {
     "data": {
      "image/jpeg": "[encoded data removed]",
      "text/plain": [
       "<IPython.core.display.Image object>"
      ]
     },
     "execution_count": 155,
     "metadata": {
      "image/jpeg": {
       "height": 500,
       "width": 500
      }
     },
     "output_type": "execute_result"
    }
   ],
   "source": [
    "from IPython.display import Image\n",
    "url = 'https://d2hucwwplm5rxi.cloudfront.net/wp-content/uploads/2021/11/08063829/rotary-engine-cover-081120211130.jpg'\n",
    "Image (url, width = 500, height = 500)"
   ]
  },
  {
   "cell_type": "markdown",
   "id": "5833cd06",
   "metadata": {},
   "source": [
    "* Above is an Image of an rotor engine,\n",
    "<br>\n",
    "Bore is defined by : the diameter of each cylinder in a piston engine\n",
    "<br>\n",
    "Stroke is defined by : the full travel of the piston along the cylinder, in either direction"
   ]
  },
  {
   "cell_type": "markdown",
   "id": "ff592980",
   "metadata": {},
   "source": [
    "* Bore and Stroke measurement is NOT appropriate for rotor type of engine, \n",
    "<br>\n",
    "We will drop these vehicle values in order not to disrupt data integrity"
   ]
  },
  {
   "cell_type": "code",
   "execution_count": 156,
   "id": "b0f60955",
   "metadata": {},
   "outputs": [],
   "source": [
    "df.dropna(subset = ['bore', 'stroke'], inplace = True)"
   ]
  },
  {
   "cell_type": "markdown",
   "id": "ac473abb",
   "metadata": {},
   "source": [
    "##### Missing Values : hoursepower & peak_rpm column"
   ]
  },
  {
   "cell_type": "code",
   "execution_count": 157,
   "id": "de52b6b0",
   "metadata": {},
   "outputs": [
    {
     "data": {
      "text/html": [
       "<div>\n",
       "<style scoped>\n",
       "    .dataframe tbody tr th:only-of-type {\n",
       "        vertical-align: middle;\n",
       "    }\n",
       "\n",
       "    .dataframe tbody tr th {\n",
       "        vertical-align: top;\n",
       "    }\n",
       "\n",
       "    .dataframe thead th {\n",
       "        text-align: right;\n",
       "    }\n",
       "</style>\n",
       "<table border=\"1\" class=\"dataframe\">\n",
       "  <thead>\n",
       "    <tr style=\"text-align: right;\">\n",
       "      <th></th>\n",
       "      <th>symboling</th>\n",
       "      <th>normalized_losses</th>\n",
       "      <th>make</th>\n",
       "      <th>fuel_type</th>\n",
       "      <th>aspiration</th>\n",
       "      <th>num_of_doors</th>\n",
       "      <th>body_style</th>\n",
       "      <th>drive_wheels</th>\n",
       "      <th>engine_location</th>\n",
       "      <th>wheel_base</th>\n",
       "      <th>...</th>\n",
       "      <th>engine_size</th>\n",
       "      <th>fuel_system</th>\n",
       "      <th>bore</th>\n",
       "      <th>stroke</th>\n",
       "      <th>compression_ratio</th>\n",
       "      <th>horsepower</th>\n",
       "      <th>peak_rpm</th>\n",
       "      <th>city_mpg</th>\n",
       "      <th>highway_mpg</th>\n",
       "      <th>price</th>\n",
       "    </tr>\n",
       "  </thead>\n",
       "  <tbody>\n",
       "    <tr>\n",
       "      <th>130</th>\n",
       "      <td>0</td>\n",
       "      <td>122.0</td>\n",
       "      <td>renault</td>\n",
       "      <td>gas</td>\n",
       "      <td>std</td>\n",
       "      <td>four</td>\n",
       "      <td>wagon</td>\n",
       "      <td>fwd</td>\n",
       "      <td>front</td>\n",
       "      <td>96.1</td>\n",
       "      <td>...</td>\n",
       "      <td>132</td>\n",
       "      <td>mpfi</td>\n",
       "      <td>3.46</td>\n",
       "      <td>3.9</td>\n",
       "      <td>8.7</td>\n",
       "      <td>NaN</td>\n",
       "      <td>NaN</td>\n",
       "      <td>23</td>\n",
       "      <td>31</td>\n",
       "      <td>9295.0</td>\n",
       "    </tr>\n",
       "    <tr>\n",
       "      <th>131</th>\n",
       "      <td>2</td>\n",
       "      <td>122.0</td>\n",
       "      <td>renault</td>\n",
       "      <td>gas</td>\n",
       "      <td>std</td>\n",
       "      <td>two</td>\n",
       "      <td>hatchback</td>\n",
       "      <td>fwd</td>\n",
       "      <td>front</td>\n",
       "      <td>96.1</td>\n",
       "      <td>...</td>\n",
       "      <td>132</td>\n",
       "      <td>mpfi</td>\n",
       "      <td>3.46</td>\n",
       "      <td>3.9</td>\n",
       "      <td>8.7</td>\n",
       "      <td>NaN</td>\n",
       "      <td>NaN</td>\n",
       "      <td>23</td>\n",
       "      <td>31</td>\n",
       "      <td>9895.0</td>\n",
       "    </tr>\n",
       "  </tbody>\n",
       "</table>\n",
       "<p>2 rows × 26 columns</p>\n",
       "</div>"
      ],
      "text/plain": [
       "     symboling  normalized_losses     make fuel_type aspiration num_of_doors  \\\n",
       "130          0              122.0  renault       gas        std         four   \n",
       "131          2              122.0  renault       gas        std          two   \n",
       "\n",
       "    body_style drive_wheels engine_location  wheel_base  ...  engine_size  \\\n",
       "130      wagon          fwd           front        96.1  ...          132   \n",
       "131  hatchback          fwd           front        96.1  ...          132   \n",
       "\n",
       "     fuel_system  bore  stroke compression_ratio horsepower  peak_rpm  \\\n",
       "130         mpfi  3.46     3.9               8.7        NaN       NaN   \n",
       "131         mpfi  3.46     3.9               8.7        NaN       NaN   \n",
       "\n",
       "    city_mpg  highway_mpg   price  \n",
       "130       23           31  9295.0  \n",
       "131       23           31  9895.0  \n",
       "\n",
       "[2 rows x 26 columns]"
      ]
     },
     "execution_count": 157,
     "metadata": {},
     "output_type": "execute_result"
    }
   ],
   "source": [
    "df[df['horsepower'].isnull() == True]"
   ]
  },
  {
   "cell_type": "code",
   "execution_count": 158,
   "id": "99ca5711",
   "metadata": {},
   "outputs": [
    {
     "data": {
      "text/html": [
       "<div>\n",
       "<style scoped>\n",
       "    .dataframe tbody tr th:only-of-type {\n",
       "        vertical-align: middle;\n",
       "    }\n",
       "\n",
       "    .dataframe tbody tr th {\n",
       "        vertical-align: top;\n",
       "    }\n",
       "\n",
       "    .dataframe thead th {\n",
       "        text-align: right;\n",
       "    }\n",
       "</style>\n",
       "<table border=\"1\" class=\"dataframe\">\n",
       "  <thead>\n",
       "    <tr style=\"text-align: right;\">\n",
       "      <th></th>\n",
       "      <th>symboling</th>\n",
       "      <th>normalized_losses</th>\n",
       "      <th>make</th>\n",
       "      <th>fuel_type</th>\n",
       "      <th>aspiration</th>\n",
       "      <th>num_of_doors</th>\n",
       "      <th>body_style</th>\n",
       "      <th>drive_wheels</th>\n",
       "      <th>engine_location</th>\n",
       "      <th>wheel_base</th>\n",
       "      <th>...</th>\n",
       "      <th>engine_size</th>\n",
       "      <th>fuel_system</th>\n",
       "      <th>bore</th>\n",
       "      <th>stroke</th>\n",
       "      <th>compression_ratio</th>\n",
       "      <th>horsepower</th>\n",
       "      <th>peak_rpm</th>\n",
       "      <th>city_mpg</th>\n",
       "      <th>highway_mpg</th>\n",
       "      <th>price</th>\n",
       "    </tr>\n",
       "  </thead>\n",
       "  <tbody>\n",
       "    <tr>\n",
       "      <th>130</th>\n",
       "      <td>0</td>\n",
       "      <td>122.0</td>\n",
       "      <td>renault</td>\n",
       "      <td>gas</td>\n",
       "      <td>std</td>\n",
       "      <td>four</td>\n",
       "      <td>wagon</td>\n",
       "      <td>fwd</td>\n",
       "      <td>front</td>\n",
       "      <td>96.1</td>\n",
       "      <td>...</td>\n",
       "      <td>132</td>\n",
       "      <td>mpfi</td>\n",
       "      <td>3.46</td>\n",
       "      <td>3.9</td>\n",
       "      <td>8.7</td>\n",
       "      <td>NaN</td>\n",
       "      <td>NaN</td>\n",
       "      <td>23</td>\n",
       "      <td>31</td>\n",
       "      <td>9295.0</td>\n",
       "    </tr>\n",
       "    <tr>\n",
       "      <th>131</th>\n",
       "      <td>2</td>\n",
       "      <td>122.0</td>\n",
       "      <td>renault</td>\n",
       "      <td>gas</td>\n",
       "      <td>std</td>\n",
       "      <td>two</td>\n",
       "      <td>hatchback</td>\n",
       "      <td>fwd</td>\n",
       "      <td>front</td>\n",
       "      <td>96.1</td>\n",
       "      <td>...</td>\n",
       "      <td>132</td>\n",
       "      <td>mpfi</td>\n",
       "      <td>3.46</td>\n",
       "      <td>3.9</td>\n",
       "      <td>8.7</td>\n",
       "      <td>NaN</td>\n",
       "      <td>NaN</td>\n",
       "      <td>23</td>\n",
       "      <td>31</td>\n",
       "      <td>9895.0</td>\n",
       "    </tr>\n",
       "  </tbody>\n",
       "</table>\n",
       "<p>2 rows × 26 columns</p>\n",
       "</div>"
      ],
      "text/plain": [
       "     symboling  normalized_losses     make fuel_type aspiration num_of_doors  \\\n",
       "130          0              122.0  renault       gas        std         four   \n",
       "131          2              122.0  renault       gas        std          two   \n",
       "\n",
       "    body_style drive_wheels engine_location  wheel_base  ...  engine_size  \\\n",
       "130      wagon          fwd           front        96.1  ...          132   \n",
       "131  hatchback          fwd           front        96.1  ...          132   \n",
       "\n",
       "     fuel_system  bore  stroke compression_ratio horsepower  peak_rpm  \\\n",
       "130         mpfi  3.46     3.9               8.7        NaN       NaN   \n",
       "131         mpfi  3.46     3.9               8.7        NaN       NaN   \n",
       "\n",
       "    city_mpg  highway_mpg   price  \n",
       "130       23           31  9295.0  \n",
       "131       23           31  9895.0  \n",
       "\n",
       "[2 rows x 26 columns]"
      ]
     },
     "execution_count": 158,
     "metadata": {},
     "output_type": "execute_result"
    }
   ],
   "source": [
    "df[df['peak_rpm'].isnull() == True]"
   ]
  },
  {
   "cell_type": "markdown",
   "id": "dbd034a9",
   "metadata": {},
   "source": [
    "* Again, missing values for hoursepower and peak rpm (since these two values are related),\n",
    "<br>\n",
    "are the same vehicles,\n",
    "<br>\n",
    "our missing values (2 entries) are 1% of our data, we will drop these datas in order to protect the data integrity\n",
    "<br>\n",
    "by not inserting random values"
   ]
  },
  {
   "cell_type": "code",
   "execution_count": 159,
   "id": "7ee8efbf",
   "metadata": {},
   "outputs": [],
   "source": [
    "df.dropna(subset = ['horsepower', 'peak_rpm'], inplace = True)"
   ]
  },
  {
   "cell_type": "markdown",
   "id": "e475e94b",
   "metadata": {},
   "source": [
    "##### Missing Values : price column"
   ]
  },
  {
   "cell_type": "code",
   "execution_count": 160,
   "id": "ae1d4230",
   "metadata": {},
   "outputs": [
    {
     "data": {
      "text/html": [
       "<div>\n",
       "<style scoped>\n",
       "    .dataframe tbody tr th:only-of-type {\n",
       "        vertical-align: middle;\n",
       "    }\n",
       "\n",
       "    .dataframe tbody tr th {\n",
       "        vertical-align: top;\n",
       "    }\n",
       "\n",
       "    .dataframe thead th {\n",
       "        text-align: right;\n",
       "    }\n",
       "</style>\n",
       "<table border=\"1\" class=\"dataframe\">\n",
       "  <thead>\n",
       "    <tr style=\"text-align: right;\">\n",
       "      <th></th>\n",
       "      <th>symboling</th>\n",
       "      <th>normalized_losses</th>\n",
       "      <th>make</th>\n",
       "      <th>fuel_type</th>\n",
       "      <th>aspiration</th>\n",
       "      <th>num_of_doors</th>\n",
       "      <th>body_style</th>\n",
       "      <th>drive_wheels</th>\n",
       "      <th>engine_location</th>\n",
       "      <th>wheel_base</th>\n",
       "      <th>...</th>\n",
       "      <th>engine_size</th>\n",
       "      <th>fuel_system</th>\n",
       "      <th>bore</th>\n",
       "      <th>stroke</th>\n",
       "      <th>compression_ratio</th>\n",
       "      <th>horsepower</th>\n",
       "      <th>peak_rpm</th>\n",
       "      <th>city_mpg</th>\n",
       "      <th>highway_mpg</th>\n",
       "      <th>price</th>\n",
       "    </tr>\n",
       "  </thead>\n",
       "  <tbody>\n",
       "    <tr>\n",
       "      <th>9</th>\n",
       "      <td>0</td>\n",
       "      <td>122.0</td>\n",
       "      <td>audi</td>\n",
       "      <td>gas</td>\n",
       "      <td>turbo</td>\n",
       "      <td>two</td>\n",
       "      <td>hatchback</td>\n",
       "      <td>4wd</td>\n",
       "      <td>front</td>\n",
       "      <td>99.5</td>\n",
       "      <td>...</td>\n",
       "      <td>131</td>\n",
       "      <td>mpfi</td>\n",
       "      <td>3.13</td>\n",
       "      <td>3.40</td>\n",
       "      <td>7.0</td>\n",
       "      <td>160.0</td>\n",
       "      <td>5500.0</td>\n",
       "      <td>16</td>\n",
       "      <td>22</td>\n",
       "      <td>NaN</td>\n",
       "    </tr>\n",
       "    <tr>\n",
       "      <th>44</th>\n",
       "      <td>1</td>\n",
       "      <td>122.0</td>\n",
       "      <td>isuzu</td>\n",
       "      <td>gas</td>\n",
       "      <td>std</td>\n",
       "      <td>two</td>\n",
       "      <td>sedan</td>\n",
       "      <td>fwd</td>\n",
       "      <td>front</td>\n",
       "      <td>94.5</td>\n",
       "      <td>...</td>\n",
       "      <td>90</td>\n",
       "      <td>2bbl</td>\n",
       "      <td>3.03</td>\n",
       "      <td>3.11</td>\n",
       "      <td>9.6</td>\n",
       "      <td>70.0</td>\n",
       "      <td>5400.0</td>\n",
       "      <td>38</td>\n",
       "      <td>43</td>\n",
       "      <td>NaN</td>\n",
       "    </tr>\n",
       "    <tr>\n",
       "      <th>45</th>\n",
       "      <td>0</td>\n",
       "      <td>122.0</td>\n",
       "      <td>isuzu</td>\n",
       "      <td>gas</td>\n",
       "      <td>std</td>\n",
       "      <td>four</td>\n",
       "      <td>sedan</td>\n",
       "      <td>fwd</td>\n",
       "      <td>front</td>\n",
       "      <td>94.5</td>\n",
       "      <td>...</td>\n",
       "      <td>90</td>\n",
       "      <td>2bbl</td>\n",
       "      <td>3.03</td>\n",
       "      <td>3.11</td>\n",
       "      <td>9.6</td>\n",
       "      <td>70.0</td>\n",
       "      <td>5400.0</td>\n",
       "      <td>38</td>\n",
       "      <td>43</td>\n",
       "      <td>NaN</td>\n",
       "    </tr>\n",
       "    <tr>\n",
       "      <th>129</th>\n",
       "      <td>1</td>\n",
       "      <td>122.0</td>\n",
       "      <td>porsche</td>\n",
       "      <td>gas</td>\n",
       "      <td>std</td>\n",
       "      <td>two</td>\n",
       "      <td>hatchback</td>\n",
       "      <td>rwd</td>\n",
       "      <td>front</td>\n",
       "      <td>98.4</td>\n",
       "      <td>...</td>\n",
       "      <td>203</td>\n",
       "      <td>mpfi</td>\n",
       "      <td>3.94</td>\n",
       "      <td>3.11</td>\n",
       "      <td>10.0</td>\n",
       "      <td>288.0</td>\n",
       "      <td>5750.0</td>\n",
       "      <td>17</td>\n",
       "      <td>28</td>\n",
       "      <td>NaN</td>\n",
       "    </tr>\n",
       "  </tbody>\n",
       "</table>\n",
       "<p>4 rows × 26 columns</p>\n",
       "</div>"
      ],
      "text/plain": [
       "     symboling  normalized_losses     make fuel_type aspiration num_of_doors  \\\n",
       "9            0              122.0     audi       gas      turbo          two   \n",
       "44           1              122.0    isuzu       gas        std          two   \n",
       "45           0              122.0    isuzu       gas        std         four   \n",
       "129          1              122.0  porsche       gas        std          two   \n",
       "\n",
       "    body_style drive_wheels engine_location  wheel_base  ...  engine_size  \\\n",
       "9    hatchback          4wd           front        99.5  ...          131   \n",
       "44       sedan          fwd           front        94.5  ...           90   \n",
       "45       sedan          fwd           front        94.5  ...           90   \n",
       "129  hatchback          rwd           front        98.4  ...          203   \n",
       "\n",
       "     fuel_system  bore  stroke compression_ratio horsepower  peak_rpm  \\\n",
       "9           mpfi  3.13    3.40               7.0      160.0    5500.0   \n",
       "44          2bbl  3.03    3.11               9.6       70.0    5400.0   \n",
       "45          2bbl  3.03    3.11               9.6       70.0    5400.0   \n",
       "129         mpfi  3.94    3.11              10.0      288.0    5750.0   \n",
       "\n",
       "    city_mpg  highway_mpg  price  \n",
       "9         16           22    NaN  \n",
       "44        38           43    NaN  \n",
       "45        38           43    NaN  \n",
       "129       17           28    NaN  \n",
       "\n",
       "[4 rows x 26 columns]"
      ]
     },
     "execution_count": 160,
     "metadata": {},
     "output_type": "execute_result"
    }
   ],
   "source": [
    "df[df['price'].isnull() == True]"
   ]
  },
  {
   "cell_type": "markdown",
   "id": "ff91a901",
   "metadata": {},
   "source": [
    "* This is a target value, we will NOT impute a value,\n",
    "<br>\n",
    "Drop these null values"
   ]
  },
  {
   "cell_type": "code",
   "execution_count": 161,
   "id": "4e92fe38",
   "metadata": {},
   "outputs": [],
   "source": [
    "df.dropna(subset = ['price'], inplace = True)"
   ]
  },
  {
   "cell_type": "code",
   "execution_count": 162,
   "id": "65ef5169",
   "metadata": {},
   "outputs": [
    {
     "data": {
      "text/plain": [
       "symboling            0\n",
       "normalized_losses    0\n",
       "make                 0\n",
       "fuel_type            0\n",
       "aspiration           0\n",
       "num_of_doors         0\n",
       "body_style           0\n",
       "drive_wheels         0\n",
       "engine_location      0\n",
       "wheel_base           0\n",
       "length               0\n",
       "width                0\n",
       "height               0\n",
       "curb_weight          0\n",
       "engine_type          0\n",
       "num_of_cylinders     0\n",
       "engine_size          0\n",
       "fuel_system          0\n",
       "bore                 0\n",
       "stroke               0\n",
       "compression_ratio    0\n",
       "horsepower           0\n",
       "peak_rpm             0\n",
       "city_mpg             0\n",
       "highway_mpg          0\n",
       "price                0\n",
       "dtype: int64"
      ]
     },
     "execution_count": 162,
     "metadata": {},
     "output_type": "execute_result"
    }
   ],
   "source": [
    "df.isnull().sum()"
   ]
  },
  {
   "cell_type": "markdown",
   "id": "8afc9056",
   "metadata": {},
   "source": [
    "## Preprocessing - Unnecessary Columns"
   ]
  },
  {
   "cell_type": "markdown",
   "id": "caba98a7",
   "metadata": {},
   "source": [
    "* This data is made for insurance purposes, symboling and normalized_losses columns were\n",
    "<br>\n",
    "related to insurance assessement.\n",
    "<br>\n",
    "In this study, we will not need them to predict the vehicle price"
   ]
  },
  {
   "cell_type": "code",
   "execution_count": 163,
   "id": "9f4c1bd1",
   "metadata": {},
   "outputs": [],
   "source": [
    "df.drop(['symboling', 'normalized_losses'], axis = 1, inplace = True)"
   ]
  },
  {
   "cell_type": "markdown",
   "id": "0cb10694",
   "metadata": {},
   "source": [
    "## Preprocessing - Encode Categorical Values"
   ]
  },
  {
   "cell_type": "code",
   "execution_count": 164,
   "id": "4b8568cc",
   "metadata": {},
   "outputs": [
    {
     "name": "stdout",
     "output_type": "stream",
     "text": [
      "<class 'pandas.core.frame.DataFrame'>\n",
      "Index: 195 entries, 0 to 204\n",
      "Data columns (total 24 columns):\n",
      " #   Column             Non-Null Count  Dtype  \n",
      "---  ------             --------------  -----  \n",
      " 0   make               195 non-null    object \n",
      " 1   fuel_type          195 non-null    object \n",
      " 2   aspiration         195 non-null    object \n",
      " 3   num_of_doors       195 non-null    object \n",
      " 4   body_style         195 non-null    object \n",
      " 5   drive_wheels       195 non-null    object \n",
      " 6   engine_location    195 non-null    object \n",
      " 7   wheel_base         195 non-null    float64\n",
      " 8   length             195 non-null    float64\n",
      " 9   width              195 non-null    float64\n",
      " 10  height             195 non-null    float64\n",
      " 11  curb_weight        195 non-null    int64  \n",
      " 12  engine_type        195 non-null    object \n",
      " 13  num_of_cylinders   195 non-null    object \n",
      " 14  engine_size        195 non-null    int64  \n",
      " 15  fuel_system        195 non-null    object \n",
      " 16  bore               195 non-null    float64\n",
      " 17  stroke             195 non-null    float64\n",
      " 18  compression_ratio  195 non-null    float64\n",
      " 19  horsepower         195 non-null    float64\n",
      " 20  peak_rpm           195 non-null    float64\n",
      " 21  city_mpg           195 non-null    int64  \n",
      " 22  highway_mpg        195 non-null    int64  \n",
      " 23  price              195 non-null    float64\n",
      "dtypes: float64(10), int64(4), object(10)\n",
      "memory usage: 38.1+ KB\n"
     ]
    }
   ],
   "source": [
    "df.info()"
   ]
  },
  {
   "cell_type": "markdown",
   "id": "7b423284",
   "metadata": {},
   "source": [
    "##### Number of Cylinders column"
   ]
  },
  {
   "cell_type": "code",
   "execution_count": 165,
   "id": "70990b3a",
   "metadata": {},
   "outputs": [
    {
     "data": {
      "text/plain": [
       "num_of_cylinders\n",
       "four      155\n",
       "six        24\n",
       "five       10\n",
       "eight       4\n",
       "three       1\n",
       "twelve      1\n",
       "Name: count, dtype: int64"
      ]
     },
     "execution_count": 165,
     "metadata": {},
     "output_type": "execute_result"
    }
   ],
   "source": [
    "df['num_of_cylinders'].value_counts()"
   ]
  },
  {
   "cell_type": "code",
   "execution_count": 166,
   "id": "534968bb",
   "metadata": {},
   "outputs": [],
   "source": [
    "df['num_of_cylinders'].replace(to_replace = 'four', value = 4, inplace = True)\n",
    "df['num_of_cylinders'].replace(to_replace = 'six', value = 6, inplace = True)\n",
    "df['num_of_cylinders'].replace(to_replace = 'five', value = 5, inplace = True)\n",
    "df['num_of_cylinders'].replace(to_replace = 'eight', value = 8, inplace = True)\n",
    "df['num_of_cylinders'].replace(to_replace = 'two', value = 2, inplace = True)\n",
    "df['num_of_cylinders'].replace(to_replace = 'three', value = 3, inplace = True)\n",
    "df['num_of_cylinders'].replace(to_replace = 'twelve', value = 12, inplace = True)"
   ]
  },
  {
   "cell_type": "markdown",
   "id": "acaca37f",
   "metadata": {},
   "source": [
    "##### Number of Doors Column"
   ]
  },
  {
   "cell_type": "code",
   "execution_count": 167,
   "id": "c231b536",
   "metadata": {},
   "outputs": [
    {
     "data": {
      "text/plain": [
       "num_of_doors\n",
       "four    114\n",
       "two      81\n",
       "Name: count, dtype: int64"
      ]
     },
     "execution_count": 167,
     "metadata": {},
     "output_type": "execute_result"
    }
   ],
   "source": [
    "df['num_of_doors'].value_counts()"
   ]
  },
  {
   "cell_type": "code",
   "execution_count": 168,
   "id": "5d8311a3",
   "metadata": {},
   "outputs": [],
   "source": [
    "df['num_of_doors'].replace(to_replace = 'four', value = 4, inplace = True)\n",
    "df['num_of_doors'].replace(to_replace = 'two', value = 2, inplace = True)"
   ]
  },
  {
   "cell_type": "markdown",
   "id": "0a7aa99f",
   "metadata": {},
   "source": [
    "##### Other Columns"
   ]
  },
  {
   "cell_type": "code",
   "execution_count": 169,
   "id": "81e254ff",
   "metadata": {},
   "outputs": [],
   "source": [
    "fuel = pd.get_dummies(df['fuel_type'], dtype = float, drop_first = True)\n",
    "aspiration = pd.get_dummies(df['aspiration'], dtype = float, drop_first = True)\n",
    "body = pd.get_dummies(df['body_style'], dtype = float, drop_first = True)\n",
    "wheel = pd.get_dummies(df['drive_wheels'], dtype = float, drop_first = True)\n",
    "etype = pd.get_dummies(df['engine_type'], dtype = float, drop_first = True)\n",
    "system = pd.get_dummies(df['fuel_system'], dtype = float, drop_first = True)\n",
    "make = pd.get_dummies(df['make'], dtype = float, drop_first = True)\n",
    "e_loc = pd.get_dummies(df['engine_location'], dtype = float, drop_first = True)"
   ]
  },
  {
   "cell_type": "code",
   "execution_count": 170,
   "id": "ace61c8a",
   "metadata": {},
   "outputs": [],
   "source": [
    "df.drop(['fuel_type', 'aspiration', 'body_style', 'drive_wheels', 'engine_type', 'fuel_system', 'make', 'engine_location'], axis = 1, inplace = True)"
   ]
  },
  {
   "cell_type": "code",
   "execution_count": 171,
   "id": "e8984de9",
   "metadata": {},
   "outputs": [],
   "source": [
    "df = pd.concat([df, fuel, aspiration, body, wheel, etype, system, make, e_loc], axis = 1)"
   ]
  },
  {
   "cell_type": "code",
   "execution_count": 172,
   "id": "a6135d79",
   "metadata": {},
   "outputs": [
    {
     "name": "stdout",
     "output_type": "stream",
     "text": [
      "<class 'pandas.core.frame.DataFrame'>\n",
      "Index: 195 entries, 0 to 204\n",
      "Data columns (total 55 columns):\n",
      " #   Column             Non-Null Count  Dtype  \n",
      "---  ------             --------------  -----  \n",
      " 0   num_of_doors       195 non-null    int64  \n",
      " 1   wheel_base         195 non-null    float64\n",
      " 2   length             195 non-null    float64\n",
      " 3   width              195 non-null    float64\n",
      " 4   height             195 non-null    float64\n",
      " 5   curb_weight        195 non-null    int64  \n",
      " 6   num_of_cylinders   195 non-null    int64  \n",
      " 7   engine_size        195 non-null    int64  \n",
      " 8   bore               195 non-null    float64\n",
      " 9   stroke             195 non-null    float64\n",
      " 10  compression_ratio  195 non-null    float64\n",
      " 11  horsepower         195 non-null    float64\n",
      " 12  peak_rpm           195 non-null    float64\n",
      " 13  city_mpg           195 non-null    int64  \n",
      " 14  highway_mpg        195 non-null    int64  \n",
      " 15  price              195 non-null    float64\n",
      " 16  gas                195 non-null    float64\n",
      " 17  turbo              195 non-null    float64\n",
      " 18  hardtop            195 non-null    float64\n",
      " 19  hatchback          195 non-null    float64\n",
      " 20  sedan              195 non-null    float64\n",
      " 21  wagon              195 non-null    float64\n",
      " 22  fwd                195 non-null    float64\n",
      " 23  rwd                195 non-null    float64\n",
      " 24  l                  195 non-null    float64\n",
      " 25  ohc                195 non-null    float64\n",
      " 26  ohcf               195 non-null    float64\n",
      " 27  ohcv               195 non-null    float64\n",
      " 28  2bbl               195 non-null    float64\n",
      " 29  idi                195 non-null    float64\n",
      " 30  mfi                195 non-null    float64\n",
      " 31  mpfi               195 non-null    float64\n",
      " 32  spdi               195 non-null    float64\n",
      " 33  spfi               195 non-null    float64\n",
      " 34  audi               195 non-null    float64\n",
      " 35  bmw                195 non-null    float64\n",
      " 36  chevrolet          195 non-null    float64\n",
      " 37  dodge              195 non-null    float64\n",
      " 38  honda              195 non-null    float64\n",
      " 39  isuzu              195 non-null    float64\n",
      " 40  jaguar             195 non-null    float64\n",
      " 41  mazda              195 non-null    float64\n",
      " 42  mercedes-benz      195 non-null    float64\n",
      " 43  mercury            195 non-null    float64\n",
      " 44  mitsubishi         195 non-null    float64\n",
      " 45  nissan             195 non-null    float64\n",
      " 46  peugot             195 non-null    float64\n",
      " 47  plymouth           195 non-null    float64\n",
      " 48  porsche            195 non-null    float64\n",
      " 49  saab               195 non-null    float64\n",
      " 50  subaru             195 non-null    float64\n",
      " 51  toyota             195 non-null    float64\n",
      " 52  volkswagen         195 non-null    float64\n",
      " 53  volvo              195 non-null    float64\n",
      " 54  rear               195 non-null    float64\n",
      "dtypes: float64(49), int64(6)\n",
      "memory usage: 85.3 KB\n"
     ]
    }
   ],
   "source": [
    "df.info()"
   ]
  },
  {
   "cell_type": "markdown",
   "id": "c34f37c5",
   "metadata": {},
   "source": [
    "## 1/ Linear Regression"
   ]
  },
  {
   "cell_type": "code",
   "execution_count": 173,
   "id": "d7a337ed",
   "metadata": {},
   "outputs": [],
   "source": [
    "X = df.drop('price', axis = 1)\n",
    "y = df['price']"
   ]
  },
  {
   "cell_type": "markdown",
   "id": "120e2d94",
   "metadata": {},
   "source": [
    "##### Set Split"
   ]
  },
  {
   "cell_type": "code",
   "execution_count": 174,
   "id": "6a5e6c65",
   "metadata": {},
   "outputs": [],
   "source": [
    "from sklearn.model_selection import train_test_split\n",
    "X_train, X_test, y_train, y_test = train_test_split(X, y, test_size = 0.2, random_state = 101)"
   ]
  },
  {
   "cell_type": "markdown",
   "id": "a3735536",
   "metadata": {},
   "source": [
    "##### Model"
   ]
  },
  {
   "cell_type": "code",
   "execution_count": 175,
   "id": "baa835bc",
   "metadata": {},
   "outputs": [
    {
     "data": {
      "text/html": [
       "<style>#sk-container-id-2 {color: black;}#sk-container-id-2 pre{padding: 0;}#sk-container-id-2 div.sk-toggleable {background-color: white;}#sk-container-id-2 label.sk-toggleable__label {cursor: pointer;display: block;width: 100%;margin-bottom: 0;padding: 0.3em;box-sizing: border-box;text-align: center;}#sk-container-id-2 label.sk-toggleable__label-arrow:before {content: \"▸\";float: left;margin-right: 0.25em;color: #696969;}#sk-container-id-2 label.sk-toggleable__label-arrow:hover:before {color: black;}#sk-container-id-2 div.sk-estimator:hover label.sk-toggleable__label-arrow:before {color: black;}#sk-container-id-2 div.sk-toggleable__content {max-height: 0;max-width: 0;overflow: hidden;text-align: left;background-color: #f0f8ff;}#sk-container-id-2 div.sk-toggleable__content pre {margin: 0.2em;color: black;border-radius: 0.25em;background-color: #f0f8ff;}#sk-container-id-2 input.sk-toggleable__control:checked~div.sk-toggleable__content {max-height: 200px;max-width: 100%;overflow: auto;}#sk-container-id-2 input.sk-toggleable__control:checked~label.sk-toggleable__label-arrow:before {content: \"▾\";}#sk-container-id-2 div.sk-estimator input.sk-toggleable__control:checked~label.sk-toggleable__label {background-color: #d4ebff;}#sk-container-id-2 div.sk-label input.sk-toggleable__control:checked~label.sk-toggleable__label {background-color: #d4ebff;}#sk-container-id-2 input.sk-hidden--visually {border: 0;clip: rect(1px 1px 1px 1px);clip: rect(1px, 1px, 1px, 1px);height: 1px;margin: -1px;overflow: hidden;padding: 0;position: absolute;width: 1px;}#sk-container-id-2 div.sk-estimator {font-family: monospace;background-color: #f0f8ff;border: 1px dotted black;border-radius: 0.25em;box-sizing: border-box;margin-bottom: 0.5em;}#sk-container-id-2 div.sk-estimator:hover {background-color: #d4ebff;}#sk-container-id-2 div.sk-parallel-item::after {content: \"\";width: 100%;border-bottom: 1px solid gray;flex-grow: 1;}#sk-container-id-2 div.sk-label:hover label.sk-toggleable__label {background-color: #d4ebff;}#sk-container-id-2 div.sk-serial::before {content: \"\";position: absolute;border-left: 1px solid gray;box-sizing: border-box;top: 0;bottom: 0;left: 50%;z-index: 0;}#sk-container-id-2 div.sk-serial {display: flex;flex-direction: column;align-items: center;background-color: white;padding-right: 0.2em;padding-left: 0.2em;position: relative;}#sk-container-id-2 div.sk-item {position: relative;z-index: 1;}#sk-container-id-2 div.sk-parallel {display: flex;align-items: stretch;justify-content: center;background-color: white;position: relative;}#sk-container-id-2 div.sk-item::before, #sk-container-id-2 div.sk-parallel-item::before {content: \"\";position: absolute;border-left: 1px solid gray;box-sizing: border-box;top: 0;bottom: 0;left: 50%;z-index: -1;}#sk-container-id-2 div.sk-parallel-item {display: flex;flex-direction: column;z-index: 1;position: relative;background-color: white;}#sk-container-id-2 div.sk-parallel-item:first-child::after {align-self: flex-end;width: 50%;}#sk-container-id-2 div.sk-parallel-item:last-child::after {align-self: flex-start;width: 50%;}#sk-container-id-2 div.sk-parallel-item:only-child::after {width: 0;}#sk-container-id-2 div.sk-dashed-wrapped {border: 1px dashed gray;margin: 0 0.4em 0.5em 0.4em;box-sizing: border-box;padding-bottom: 0.4em;background-color: white;}#sk-container-id-2 div.sk-label label {font-family: monospace;font-weight: bold;display: inline-block;line-height: 1.2em;}#sk-container-id-2 div.sk-label-container {text-align: center;}#sk-container-id-2 div.sk-container {/* jupyter's `normalize.less` sets `[hidden] { display: none; }` but bootstrap.min.css set `[hidden] { display: none !important; }` so we also need the `!important` here to be able to override the default hidden behavior on the sphinx rendered scikit-learn.org. See: https://github.com/scikit-learn/scikit-learn/issues/21755 */display: inline-block !important;position: relative;}#sk-container-id-2 div.sk-text-repr-fallback {display: none;}</style><div id=\"sk-container-id-2\" class=\"sk-top-container\"><div class=\"sk-text-repr-fallback\"><pre>LinearRegression()</pre><b>In a Jupyter environment, please rerun this cell to show the HTML representation or trust the notebook. <br />On GitHub, the HTML representation is unable to render, please try loading this page with nbviewer.org.</b></div><div class=\"sk-container\" hidden><div class=\"sk-item\"><div class=\"sk-estimator sk-toggleable\"><input class=\"sk-toggleable__control sk-hidden--visually\" id=\"sk-estimator-id-2\" type=\"checkbox\" checked><label for=\"sk-estimator-id-2\" class=\"sk-toggleable__label sk-toggleable__label-arrow\">LinearRegression</label><div class=\"sk-toggleable__content\"><pre>LinearRegression()</pre></div></div></div></div></div>"
      ],
      "text/plain": [
       "LinearRegression()"
      ]
     },
     "execution_count": 175,
     "metadata": {},
     "output_type": "execute_result"
    }
   ],
   "source": [
    "from sklearn.linear_model import LinearRegression\n",
    "lr = LinearRegression()\n",
    "lr.fit(X_train, y_train)"
   ]
  },
  {
   "cell_type": "markdown",
   "id": "678c3c64",
   "metadata": {},
   "source": [
    "##### Prediction"
   ]
  },
  {
   "cell_type": "code",
   "execution_count": 176,
   "id": "fab4e4fd",
   "metadata": {},
   "outputs": [],
   "source": [
    "y_pred = lr.predict(X_test)"
   ]
  },
  {
   "cell_type": "code",
   "execution_count": 177,
   "id": "e69c13e0",
   "metadata": {},
   "outputs": [
    {
     "name": "stdout",
     "output_type": "stream",
     "text": [
      "[[ 7465. 10295.]\n",
      " [ 9673.  8948.]\n",
      " [29658. 28248.]\n",
      " [ 7840.  6529.]\n",
      " [14045. 12170.]\n",
      " [16653. 18620.]\n",
      " [ 6727.  6488.]\n",
      " [11019.  6785.]\n",
      " [ 7527.  7295.]\n",
      " [12416. 11900.]\n",
      " [ 7213.  7609.]\n",
      " [ 7997.  7957.]\n",
      " [43411. 40960.]\n",
      " [ 8345.  7995.]\n",
      " [ 4832.  7898.]\n",
      " [ 7062.  6095.]\n",
      " [ 6114.  7999.]\n",
      " [ 8917.  9095.]\n",
      " [ 9258.  7126.]\n",
      " [23437. 22018.]\n",
      " [23875. 21105.]\n",
      " [17926. 15998.]\n",
      " [16145. 13499.]\n",
      " [ 8211.  7775.]\n",
      " [11648. 10245.]\n",
      " [ 9443. 11248.]\n",
      " [11967. 11199.]\n",
      " [15610. 10345.]\n",
      " [ 7825.  8499.]\n",
      " [ 5808.  5399.]\n",
      " [11607. 11259.]\n",
      " [ 8070.  7957.]\n",
      " [35030. 34184.]\n",
      " [ 6826.  8058.]\n",
      " [ 7046.  9538.]\n",
      " [36132. 36880.]\n",
      " [ 7400.  8249.]\n",
      " [10595. 11694.]\n",
      " [17150. 17950.]]\n"
     ]
    }
   ],
   "source": [
    "actual = np.array(y_test)\n",
    "np.set_printoptions(precision = 0)\n",
    "print(np.concatenate((y_pred.reshape(len(y_pred), 1), actual.reshape(len(actual), 1)), 1))"
   ]
  },
  {
   "cell_type": "markdown",
   "id": "fbe54b77",
   "metadata": {},
   "source": [
    "##### Evaluation"
   ]
  },
  {
   "cell_type": "code",
   "execution_count": 178,
   "id": "0cc22c50",
   "metadata": {},
   "outputs": [],
   "source": [
    "from sklearn import metrics\n",
    "from sklearn.metrics import r2_score"
   ]
  },
  {
   "cell_type": "code",
   "execution_count": 179,
   "id": "86f81ffb",
   "metadata": {},
   "outputs": [
    {
     "name": "stdout",
     "output_type": "stream",
     "text": [
      "0.9550035861649093\n"
     ]
    }
   ],
   "source": [
    "r2 = r2_score(y_test, y_pred)\n",
    "print(r2)"
   ]
  },
  {
   "cell_type": "code",
   "execution_count": 180,
   "id": "a44fc835",
   "metadata": {},
   "outputs": [
    {
     "data": {
      "text/html": [
       "<div>\n",
       "<style scoped>\n",
       "    .dataframe tbody tr th:only-of-type {\n",
       "        vertical-align: middle;\n",
       "    }\n",
       "\n",
       "    .dataframe tbody tr th {\n",
       "        vertical-align: top;\n",
       "    }\n",
       "\n",
       "    .dataframe thead th {\n",
       "        text-align: right;\n",
       "    }\n",
       "</style>\n",
       "<table border=\"1\" class=\"dataframe\">\n",
       "  <thead>\n",
       "    <tr style=\"text-align: right;\">\n",
       "      <th></th>\n",
       "      <th>Coefficient</th>\n",
       "    </tr>\n",
       "  </thead>\n",
       "  <tbody>\n",
       "    <tr>\n",
       "      <th>idi</th>\n",
       "      <td>7134.121962</td>\n",
       "    </tr>\n",
       "    <tr>\n",
       "      <th>bmw</th>\n",
       "      <td>6138.601442</td>\n",
       "    </tr>\n",
       "    <tr>\n",
       "      <th>rear</th>\n",
       "      <td>5972.662178</td>\n",
       "    </tr>\n",
       "    <tr>\n",
       "      <th>porsche</th>\n",
       "      <td>5972.662178</td>\n",
       "    </tr>\n",
       "    <tr>\n",
       "      <th>2bbl</th>\n",
       "      <td>5635.502382</td>\n",
       "    </tr>\n",
       "    <tr>\n",
       "      <th>l</th>\n",
       "      <td>5274.151587</td>\n",
       "    </tr>\n",
       "    <tr>\n",
       "      <th>spdi</th>\n",
       "      <td>4441.711568</td>\n",
       "    </tr>\n",
       "    <tr>\n",
       "      <th>mpfi</th>\n",
       "      <td>4397.681291</td>\n",
       "    </tr>\n",
       "    <tr>\n",
       "      <th>mfi</th>\n",
       "      <td>3422.131810</td>\n",
       "    </tr>\n",
       "    <tr>\n",
       "      <th>mercedes-benz</th>\n",
       "      <td>2489.150651</td>\n",
       "    </tr>\n",
       "    <tr>\n",
       "      <th>saab</th>\n",
       "      <td>2355.128991</td>\n",
       "    </tr>\n",
       "    <tr>\n",
       "      <th>ohcf</th>\n",
       "      <td>2084.181122</td>\n",
       "    </tr>\n",
       "    <tr>\n",
       "      <th>turbo</th>\n",
       "      <td>1810.127384</td>\n",
       "    </tr>\n",
       "    <tr>\n",
       "      <th>isuzu</th>\n",
       "      <td>1346.381127</td>\n",
       "    </tr>\n",
       "    <tr>\n",
       "      <th>spfi</th>\n",
       "      <td>1346.381127</td>\n",
       "    </tr>\n",
       "    <tr>\n",
       "      <th>honda</th>\n",
       "      <td>687.140112</td>\n",
       "    </tr>\n",
       "    <tr>\n",
       "      <th>width</th>\n",
       "      <td>526.082772</td>\n",
       "    </tr>\n",
       "    <tr>\n",
       "      <th>ohc</th>\n",
       "      <td>488.677703</td>\n",
       "    </tr>\n",
       "    <tr>\n",
       "      <th>wheel_base</th>\n",
       "      <td>395.191047</td>\n",
       "    </tr>\n",
       "    <tr>\n",
       "      <th>highway_mpg</th>\n",
       "      <td>171.708022</td>\n",
       "    </tr>\n",
       "    <tr>\n",
       "      <th>engine_size</th>\n",
       "      <td>115.901145</td>\n",
       "    </tr>\n",
       "    <tr>\n",
       "      <th>num_of_doors</th>\n",
       "      <td>58.834760</td>\n",
       "    </tr>\n",
       "    <tr>\n",
       "      <th>curb_weight</th>\n",
       "      <td>5.418788</td>\n",
       "    </tr>\n",
       "    <tr>\n",
       "      <th>peak_rpm</th>\n",
       "      <td>2.014631</td>\n",
       "    </tr>\n",
       "    <tr>\n",
       "      <th>horsepower</th>\n",
       "      <td>1.111011</td>\n",
       "    </tr>\n",
       "    <tr>\n",
       "      <th>city_mpg</th>\n",
       "      <td>0.220695</td>\n",
       "    </tr>\n",
       "    <tr>\n",
       "      <th>length</th>\n",
       "      <td>-161.655705</td>\n",
       "    </tr>\n",
       "    <tr>\n",
       "      <th>audi</th>\n",
       "      <td>-272.073196</td>\n",
       "    </tr>\n",
       "    <tr>\n",
       "      <th>num_of_cylinders</th>\n",
       "      <td>-285.609006</td>\n",
       "    </tr>\n",
       "    <tr>\n",
       "      <th>rwd</th>\n",
       "      <td>-384.526117</td>\n",
       "    </tr>\n",
       "    <tr>\n",
       "      <th>height</th>\n",
       "      <td>-390.313671</td>\n",
       "    </tr>\n",
       "    <tr>\n",
       "      <th>fwd</th>\n",
       "      <td>-436.371020</td>\n",
       "    </tr>\n",
       "    <tr>\n",
       "      <th>compression_ratio</th>\n",
       "      <td>-826.041781</td>\n",
       "    </tr>\n",
       "    <tr>\n",
       "      <th>volvo</th>\n",
       "      <td>-1072.942465</td>\n",
       "    </tr>\n",
       "    <tr>\n",
       "      <th>stroke</th>\n",
       "      <td>-1252.409679</td>\n",
       "    </tr>\n",
       "    <tr>\n",
       "      <th>ohcv</th>\n",
       "      <td>-1263.844741</td>\n",
       "    </tr>\n",
       "    <tr>\n",
       "      <th>volkswagen</th>\n",
       "      <td>-1859.903529</td>\n",
       "    </tr>\n",
       "    <tr>\n",
       "      <th>mazda</th>\n",
       "      <td>-1896.745786</td>\n",
       "    </tr>\n",
       "    <tr>\n",
       "      <th>mercury</th>\n",
       "      <td>-2319.607026</td>\n",
       "    </tr>\n",
       "    <tr>\n",
       "      <th>sedan</th>\n",
       "      <td>-2997.065470</td>\n",
       "    </tr>\n",
       "    <tr>\n",
       "      <th>wagon</th>\n",
       "      <td>-3204.377772</td>\n",
       "    </tr>\n",
       "    <tr>\n",
       "      <th>hardtop</th>\n",
       "      <td>-3219.816817</td>\n",
       "    </tr>\n",
       "    <tr>\n",
       "      <th>nissan</th>\n",
       "      <td>-3231.305845</td>\n",
       "    </tr>\n",
       "    <tr>\n",
       "      <th>toyota</th>\n",
       "      <td>-3373.365452</td>\n",
       "    </tr>\n",
       "    <tr>\n",
       "      <th>jaguar</th>\n",
       "      <td>-3527.320393</td>\n",
       "    </tr>\n",
       "    <tr>\n",
       "      <th>bore</th>\n",
       "      <td>-3851.485128</td>\n",
       "    </tr>\n",
       "    <tr>\n",
       "      <th>subaru</th>\n",
       "      <td>-3888.481057</td>\n",
       "    </tr>\n",
       "    <tr>\n",
       "      <th>hatchback</th>\n",
       "      <td>-3988.334712</td>\n",
       "    </tr>\n",
       "    <tr>\n",
       "      <th>chevrolet</th>\n",
       "      <td>-5479.545847</td>\n",
       "    </tr>\n",
       "    <tr>\n",
       "      <th>plymouth</th>\n",
       "      <td>-5683.966393</td>\n",
       "    </tr>\n",
       "    <tr>\n",
       "      <th>dodge</th>\n",
       "      <td>-5712.682942</td>\n",
       "    </tr>\n",
       "    <tr>\n",
       "      <th>mitsubishi</th>\n",
       "      <td>-6312.957609</td>\n",
       "    </tr>\n",
       "    <tr>\n",
       "      <th>gas</th>\n",
       "      <td>-7134.121962</td>\n",
       "    </tr>\n",
       "    <tr>\n",
       "      <th>peugot</th>\n",
       "      <td>-9678.677247</td>\n",
       "    </tr>\n",
       "  </tbody>\n",
       "</table>\n",
       "</div>"
      ],
      "text/plain": [
       "                   Coefficient\n",
       "idi                7134.121962\n",
       "bmw                6138.601442\n",
       "rear               5972.662178\n",
       "porsche            5972.662178\n",
       "2bbl               5635.502382\n",
       "l                  5274.151587\n",
       "spdi               4441.711568\n",
       "mpfi               4397.681291\n",
       "mfi                3422.131810\n",
       "mercedes-benz      2489.150651\n",
       "saab               2355.128991\n",
       "ohcf               2084.181122\n",
       "turbo              1810.127384\n",
       "isuzu              1346.381127\n",
       "spfi               1346.381127\n",
       "honda               687.140112\n",
       "width               526.082772\n",
       "ohc                 488.677703\n",
       "wheel_base          395.191047\n",
       "highway_mpg         171.708022\n",
       "engine_size         115.901145\n",
       "num_of_doors         58.834760\n",
       "curb_weight           5.418788\n",
       "peak_rpm              2.014631\n",
       "horsepower            1.111011\n",
       "city_mpg              0.220695\n",
       "length             -161.655705\n",
       "audi               -272.073196\n",
       "num_of_cylinders   -285.609006\n",
       "rwd                -384.526117\n",
       "height             -390.313671\n",
       "fwd                -436.371020\n",
       "compression_ratio  -826.041781\n",
       "volvo             -1072.942465\n",
       "stroke            -1252.409679\n",
       "ohcv              -1263.844741\n",
       "volkswagen        -1859.903529\n",
       "mazda             -1896.745786\n",
       "mercury           -2319.607026\n",
       "sedan             -2997.065470\n",
       "wagon             -3204.377772\n",
       "hardtop           -3219.816817\n",
       "nissan            -3231.305845\n",
       "toyota            -3373.365452\n",
       "jaguar            -3527.320393\n",
       "bore              -3851.485128\n",
       "subaru            -3888.481057\n",
       "hatchback         -3988.334712\n",
       "chevrolet         -5479.545847\n",
       "plymouth          -5683.966393\n",
       "dodge             -5712.682942\n",
       "mitsubishi        -6312.957609\n",
       "gas               -7134.121962\n",
       "peugot            -9678.677247"
      ]
     },
     "execution_count": 180,
     "metadata": {},
     "output_type": "execute_result"
    }
   ],
   "source": [
    "coeffs = pd.DataFrame(lr.coef_, X.columns, columns = ['Coefficient']).sort_values('Coefficient', ascending = False)\n",
    "coeffs"
   ]
  },
  {
   "cell_type": "markdown",
   "id": "337abfff",
   "metadata": {},
   "source": [
    "#### Visualisation"
   ]
  },
  {
   "cell_type": "code",
   "execution_count": 181,
   "id": "cab1afa2",
   "metadata": {},
   "outputs": [
    {
     "data": {
      "image/png": "[encoded data removed]",
      "text/plain": [
       "<Figure size 800x800 with 1 Axes>"
      ]
     },
     "metadata": {},
     "output_type": "display_data"
    }
   ],
   "source": [
    "plt.rcParams['figure.figsize'] = 8, 8\n",
    "plt.scatter(y_test, y_pred)\n",
    "plt.plot(y_test, y_test, color = 'red')     # Perfect Prediction Line\n",
    "\n",
    "plt.xlabel('Y Test')\n",
    "plt.ylabel('Predicted Y')\n",
    "plt.show()"
   ]
  },
  {
   "cell_type": "code",
   "execution_count": 182,
   "id": "3115d59c",
   "metadata": {},
   "outputs": [
    {
     "data": {
      "image/png": "[encoded data removed]",
      "text/plain": [
       "<Figure size 800x800 with 1 Axes>"
      ]
     },
     "metadata": {},
     "output_type": "display_data"
    }
   ],
   "source": [
    "sns.distplot((y_test - y_pred), bins = 20)\n",
    "\n",
    "plt.title('Errors')\n",
    "plt.show()"
   ]
  },
  {
   "cell_type": "markdown",
   "id": "ae3024f9",
   "metadata": {},
   "source": [
    "## 2/ Artificial Neural Network"
   ]
  },
  {
   "cell_type": "markdown",
   "id": "422dd510",
   "metadata": {},
   "source": [
    "##### Feature Scaling"
   ]
  },
  {
   "cell_type": "code",
   "execution_count": 183,
   "id": "4c301df8",
   "metadata": {},
   "outputs": [],
   "source": [
    "from sklearn.preprocessing import StandardScaler\n",
    "sc = StandardScaler()\n",
    "X_train = sc.fit_transform(X_train)\n",
    "X_test = sc.transform(X_test)"
   ]
  },
  {
   "cell_type": "markdown",
   "id": "e5f3b656",
   "metadata": {},
   "source": [
    "##### Model"
   ]
  },
  {
   "cell_type": "code",
   "execution_count": 185,
   "id": "22ae5722",
   "metadata": {},
   "outputs": [],
   "source": [
    "from tensorflow.keras.models import Sequential\n",
    "from tensorflow.keras.layers import Dense"
   ]
  },
  {
   "cell_type": "code",
   "execution_count": 186,
   "id": "bd529e35",
   "metadata": {},
   "outputs": [],
   "source": [
    "ann = Sequential()\n",
    "\n",
    "ann.add(Dense(4, activation = 'relu'))\n",
    "ann.add(Dense(4, activation = 'relu'))\n",
    "ann.add(Dense(4, activation = 'relu'))\n",
    "\n",
    "ann.add(Dense(1))\n",
    "\n",
    "ann.compile(optimizer = 'adam', loss = 'mse')"
   ]
  },
  {
   "cell_type": "code",
   "execution_count": 187,
   "id": "afe5e441",
   "metadata": {},
   "outputs": [
    {
     "data": {
      "text/plain": [
       "<keras.src.callbacks.History at 0x28ed08ec3d0>"
      ]
     },
     "execution_count": 187,
     "metadata": {},
     "output_type": "execute_result"
    }
   ],
   "source": [
    "ann.fit(X_train, y_train, epochs = 500, verbose = 0)"
   ]
  },
  {
   "cell_type": "code",
   "execution_count": 188,
   "id": "18de1cb2",
   "metadata": {},
   "outputs": [
    {
     "data": {
      "image/png": "[encoded data removed]",
      "text/plain": [
       "<Figure size 800x800 with 1 Axes>"
      ]
     },
     "metadata": {},
     "output_type": "display_data"
    }
   ],
   "source": [
    "loss_df = pd.DataFrame(ann.history.history)\n",
    "loss_df.plot()\n",
    "\n",
    "plt.show()"
   ]
  },
  {
   "cell_type": "markdown",
   "id": "f6be3da3",
   "metadata": {},
   "source": [
    "##### Prediction"
   ]
  },
  {
   "cell_type": "code",
   "execution_count": 189,
   "id": "e7dffcc3",
   "metadata": {},
   "outputs": [
    {
     "name": "stdout",
     "output_type": "stream",
     "text": [
      "2/2 [==============================] - 0s 12ms/step\n"
     ]
    }
   ],
   "source": [
    "y_pred = ann.predict(X_test)"
   ]
  },
  {
   "cell_type": "code",
   "execution_count": 190,
   "id": "dd057786",
   "metadata": {},
   "outputs": [],
   "source": [
    "y_pred = pd.Series(y_pred.reshape(39, ))"
   ]
  },
  {
   "cell_type": "code",
   "execution_count": 191,
   "id": "013127b3",
   "metadata": {},
   "outputs": [],
   "source": [
    "y_test_new = y_test.reset_index()\n",
    "y_test_new.drop('index', axis = 1, inplace = True)\n",
    "y_test_new.columns = ['True Y']"
   ]
  },
  {
   "cell_type": "code",
   "execution_count": 192,
   "id": "5f16938d",
   "metadata": {},
   "outputs": [],
   "source": [
    "pred_df = pd.concat([y_pred, y_test_new], axis = 1)\n",
    "pred_df.columns = ['Predicted Y', 'True Y']"
   ]
  },
  {
   "cell_type": "markdown",
   "id": "8236335f",
   "metadata": {},
   "source": [
    "##### Evaluation"
   ]
  },
  {
   "cell_type": "code",
   "execution_count": 193,
   "id": "05dc47c3",
   "metadata": {},
   "outputs": [
    {
     "data": {
      "image/png": "[encoded data removed]",
      "text/plain": [
       "<Figure size 800x800 with 1 Axes>"
      ]
     },
     "metadata": {},
     "output_type": "display_data"
    }
   ],
   "source": [
    "sns.scatterplot(pred_df, x = 'True Y', y = 'Predicted Y')\n",
    "plt.plot(y_test, y_test, 'r')\n",
    "plt.show()"
   ]
  },
  {
   "cell_type": "code",
   "execution_count": 194,
   "id": "667ee7f3",
   "metadata": {},
   "outputs": [],
   "source": [
    "from sklearn.metrics import mean_absolute_error, mean_squared_error"
   ]
  },
  {
   "cell_type": "code",
   "execution_count": 195,
   "id": "55e9395e",
   "metadata": {},
   "outputs": [
    {
     "data": {
      "text/plain": [
       "2341.0562963241186"
      ]
     },
     "execution_count": 195,
     "metadata": {},
     "output_type": "execute_result"
    }
   ],
   "source": [
    "mean_absolute_error(pred_df['True Y'], pred_df['Predicted Y'])"
   ]
  },
  {
   "cell_type": "code",
   "execution_count": 196,
   "id": "264d462f",
   "metadata": {},
   "outputs": [
    {
     "data": {
      "text/plain": [
       "13248.015384615384"
      ]
     },
     "execution_count": 196,
     "metadata": {},
     "output_type": "execute_result"
    }
   ],
   "source": [
    "df['price'].mean()  # We are 18% off"
   ]
  },
  {
   "cell_type": "code",
   "execution_count": 197,
   "id": "a2af363e",
   "metadata": {},
   "outputs": [
    {
     "data": {
      "text/plain": [
       "8282145.8561975425"
      ]
     },
     "execution_count": 197,
     "metadata": {},
     "output_type": "execute_result"
    }
   ],
   "source": [
    "mean_squared_error(pred_df['True Y'], pred_df['Predicted Y'])"
   ]
  },
  {
   "cell_type": "code",
   "execution_count": 198,
   "id": "73c0ad1e",
   "metadata": {},
   "outputs": [
    {
     "data": {
      "text/plain": [
       "2877.8717581222313"
      ]
     },
     "execution_count": 198,
     "metadata": {},
     "output_type": "execute_result"
    }
   ],
   "source": [
    "np.sqrt(mean_squared_error(pred_df['True Y'], pred_df['Predicted Y']))"
   ]
  }
 ],
 "metadata": {
  "kernelspec": {
   "display_name": "Python 3 (ipykernel)",
   "language": "python",
   "name": "python3"
  },
  "language_info": {
   "codemirror_mode": {
    "name": "ipython",
    "version": 3
   },
   "file_extension": ".py",
   "mimetype": "text/x-python",
   "name": "python",
   "nbconvert_exporter": "python",
   "pygments_lexer": "ipython3",
   "version": "3.11.5"
  }
 },
 "nbformat": 4,
 "nbformat_minor": 5
}
