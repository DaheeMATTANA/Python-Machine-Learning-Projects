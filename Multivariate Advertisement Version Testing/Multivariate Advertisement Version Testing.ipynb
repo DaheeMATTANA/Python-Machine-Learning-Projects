{
 "cells": [
  {
   "cell_type": "markdown",
   "id": "21cb1b28",
   "metadata": {},
   "source": [
    "###### Credit : superdatascience.com"
   ]
  },
  {
   "cell_type": "markdown",
   "id": "25032344",
   "metadata": {},
   "source": [
    "Business case : Analyse advertisement version testing & build a reinforcement model to help the selection of the ad with the biggest conversion rate"
   ]
  },
  {
   "cell_type": "markdown",
   "id": "ee6fcc26",
   "metadata": {},
   "source": [
    "## Data"
   ]
  },
  {
   "cell_type": "code",
   "execution_count": 44,
   "id": "32cfca26",
   "metadata": {},
   "outputs": [],
   "source": [
    "import numpy as np\n",
    "import matplotlib.pyplot as plt\n",
    "import pandas as pd"
   ]
  },
  {
   "cell_type": "code",
   "execution_count": 45,
   "id": "dade0e90",
   "metadata": {},
   "outputs": [],
   "source": [
    "dataset = pd.read_csv('Ads_CTR_Optimisation.csv')"
   ]
  },
  {
   "cell_type": "code",
   "execution_count": 46,
   "id": "9e04c653",
   "metadata": {},
   "outputs": [
    {
     "name": "stdout",
     "output_type": "stream",
     "text": [
      "<class 'pandas.core.frame.DataFrame'>\n",
      "RangeIndex: 10000 entries, 0 to 9999\n",
      "Data columns (total 10 columns):\n",
      " #   Column  Non-Null Count  Dtype\n",
      "---  ------  --------------  -----\n",
      " 0   Ad 1    10000 non-null  int64\n",
      " 1   Ad 2    10000 non-null  int64\n",
      " 2   Ad 3    10000 non-null  int64\n",
      " 3   Ad 4    10000 non-null  int64\n",
      " 4   Ad 5    10000 non-null  int64\n",
      " 5   Ad 6    10000 non-null  int64\n",
      " 6   Ad 7    10000 non-null  int64\n",
      " 7   Ad 8    10000 non-null  int64\n",
      " 8   Ad 9    10000 non-null  int64\n",
      " 9   Ad 10   10000 non-null  int64\n",
      "dtypes: int64(10)\n",
      "memory usage: 781.4 KB\n"
     ]
    }
   ],
   "source": [
    "dataset.info()"
   ]
  },
  {
   "cell_type": "markdown",
   "id": "d9414093",
   "metadata": {},
   "source": [
    "## 1/ Upper Confidence Bound"
   ]
  },
  {
   "cell_type": "markdown",
   "id": "6f7718b5",
   "metadata": {},
   "source": [
    "##### Model"
   ]
  },
  {
   "cell_type": "markdown",
   "id": "3fc47e4d",
   "metadata": {},
   "source": [
    "* Variable Ni(n) : Numbers of selections, Ri(n) : Sums of rewards\n",
    "* Total number of users = 10000 = N\n",
    "* Number of ads = 10 = d\n",
    "* List of selected ads over the rounds\n",
    "* Total reward = sum of all the rewards received at each round (accumulative)"
   ]
  },
  {
   "cell_type": "code",
   "execution_count": 47,
   "id": "79afddfc",
   "metadata": {},
   "outputs": [],
   "source": [
    "N = len(dataset)\n",
    "d = len(dataset.columns)\n",
    "\n",
    "ads_selected = []\n",
    "numbers_of_selections = [0] * d\n",
    "sums_of_rewards = [0] * d\n",
    "total_reward = 0"
   ]
  },
  {
   "cell_type": "code",
   "execution_count": 48,
   "id": "9a72e055",
   "metadata": {},
   "outputs": [],
   "source": [
    "import math"
   ]
  },
  {
   "cell_type": "code",
   "execution_count": 49,
   "id": "f90d9f9c",
   "metadata": {},
   "outputs": [],
   "source": [
    "# n : rounds (users), delta_i : confidence interval\n",
    "for n in range(0, N) :\n",
    "    ad = 0\n",
    "    max_upper_bound = 0\n",
    "    for i in range(0, d) :\n",
    "        if numbers_of_selections[i] > 0 :\n",
    "            average_reward = sums_of_rewards[i] / numbers_of_selections[i]       # Step 2 First Computation\n",
    "            delta_i = math.sqrt((3/2 * math.log(n + 1)) / numbers_of_selections[i])     # Step 2 Second Computation\n",
    "            upper_bound = average_reward + delta_i\n",
    "        else :\n",
    "            upper_bound = 1e400\n",
    "        if upper_bound > max_upper_bound :\n",
    "            max_upper_bound = upper_bound\n",
    "            ad = i\n",
    "            # else & second if statement is to make sure to select ads so that numbers_of_selections will be greater than zero\n",
    "    ads_selected.append(ad)\n",
    "    numbers_of_selections[ad] += 1      # or numbers_of_selections[ad] = numbers_of_selections[ad] + 1\n",
    "    reward = dataset.values[n, ad]\n",
    "    sums_of_rewards[ad] = sums_of_rewards[ad] + reward\n",
    "    total_reward = total_reward + reward"
   ]
  },
  {
   "cell_type": "markdown",
   "id": "d463013f",
   "metadata": {},
   "source": [
    "## Result"
   ]
  },
  {
   "cell_type": "code",
   "execution_count": 50,
   "id": "546e2535",
   "metadata": {},
   "outputs": [
    {
     "name": "stdout",
     "output_type": "stream",
     "text": [
      "[705, 387, 186, 345, 6323, 150, 292, 1170, 256, 186]\n"
     ]
    }
   ],
   "source": [
    "print(numbers_of_selections)"
   ]
  },
  {
   "cell_type": "code",
   "execution_count": 51,
   "id": "0cd1547e",
   "metadata": {
    "scrolled": true
   },
   "outputs": [
    {
     "name": "stdout",
     "output_type": "stream",
     "text": [
      "[120, 47, 7, 38, 1675, 1, 27, 236, 20, 7]\n"
     ]
    }
   ],
   "source": [
    "print(sums_of_rewards)"
   ]
  },
  {
   "cell_type": "code",
   "execution_count": 52,
   "id": "48ea39e6",
   "metadata": {
    "scrolled": false
   },
   "outputs": [
    {
     "name": "stdout",
     "output_type": "stream",
     "text": [
      "2178\n"
     ]
    }
   ],
   "source": [
    "print(total_reward)"
   ]
  },
  {
   "cell_type": "code",
   "execution_count": 139,
   "id": "85868dd2",
   "metadata": {},
   "outputs": [],
   "source": [
    "percentage = np.zeros(10)"
   ]
  },
  {
   "cell_type": "code",
   "execution_count": 140,
   "id": "3e518f33",
   "metadata": {},
   "outputs": [],
   "source": [
    "df = {'Selection' : numbers_of_selections, 'Rewards' : sums_of_rewards, 'Percent of Total' : percentage}"
   ]
  },
  {
   "cell_type": "code",
   "execution_count": 141,
   "id": "1a74d129",
   "metadata": {},
   "outputs": [],
   "source": [
    "result = pd.DataFrame(data = df, index = ['Ad1', 'Ad2', 'Ad3', 'Ad4', 'Ad5', 'Ad6', 'Ad7', 'Ad8', 'Ad9', 'Ad10'])"
   ]
  },
  {
   "cell_type": "code",
   "execution_count": 142,
   "id": "64b2a37c",
   "metadata": {},
   "outputs": [],
   "source": [
    "percentage = []\n",
    "for i in range(0, 10) :\n",
    "    percentage.append(round((result.values[i, 1] / result.values[i, 0]) * 100, 1))"
   ]
  },
  {
   "cell_type": "code",
   "execution_count": 143,
   "id": "70a6e343",
   "metadata": {},
   "outputs": [],
   "source": [
    "df = {'Selection' : numbers_of_selections, 'Rewards' : sums_of_rewards, 'Percent of Total' : percentage}\n",
    "result = pd.DataFrame(data = df, index = ['Ad1', 'Ad2', 'Ad3', 'Ad4', 'Ad5', 'Ad6', 'Ad7', 'Ad8', 'Ad9', 'Ad10'])"
   ]
  },
  {
   "cell_type": "code",
   "execution_count": 145,
   "id": "06178ee4",
   "metadata": {},
   "outputs": [
    {
     "data": {
      "text/html": [
       "<div>\n",
       "<style scoped>\n",
       "    .dataframe tbody tr th:only-of-type {\n",
       "        vertical-align: middle;\n",
       "    }\n",
       "\n",
       "    .dataframe tbody tr th {\n",
       "        vertical-align: top;\n",
       "    }\n",
       "\n",
       "    .dataframe thead th {\n",
       "        text-align: right;\n",
       "    }\n",
       "</style>\n",
       "<table border=\"1\" class=\"dataframe\">\n",
       "  <thead>\n",
       "    <tr style=\"text-align: right;\">\n",
       "      <th></th>\n",
       "      <th>Ad1</th>\n",
       "      <th>Ad2</th>\n",
       "      <th>Ad3</th>\n",
       "      <th>Ad4</th>\n",
       "      <th>Ad5</th>\n",
       "      <th>Ad6</th>\n",
       "      <th>Ad7</th>\n",
       "      <th>Ad8</th>\n",
       "      <th>Ad9</th>\n",
       "      <th>Ad10</th>\n",
       "    </tr>\n",
       "  </thead>\n",
       "  <tbody>\n",
       "    <tr>\n",
       "      <th>Selection</th>\n",
       "      <td>705.0</td>\n",
       "      <td>387.0</td>\n",
       "      <td>186.0</td>\n",
       "      <td>345.0</td>\n",
       "      <td>6323.0</td>\n",
       "      <td>150.0</td>\n",
       "      <td>292.0</td>\n",
       "      <td>1170.0</td>\n",
       "      <td>256.0</td>\n",
       "      <td>186.0</td>\n",
       "    </tr>\n",
       "    <tr>\n",
       "      <th>Rewards</th>\n",
       "      <td>120.0</td>\n",
       "      <td>47.0</td>\n",
       "      <td>7.0</td>\n",
       "      <td>38.0</td>\n",
       "      <td>1675.0</td>\n",
       "      <td>1.0</td>\n",
       "      <td>27.0</td>\n",
       "      <td>236.0</td>\n",
       "      <td>20.0</td>\n",
       "      <td>7.0</td>\n",
       "    </tr>\n",
       "    <tr>\n",
       "      <th>Percent of Total</th>\n",
       "      <td>17.0</td>\n",
       "      <td>12.1</td>\n",
       "      <td>3.8</td>\n",
       "      <td>11.0</td>\n",
       "      <td>26.5</td>\n",
       "      <td>0.7</td>\n",
       "      <td>9.2</td>\n",
       "      <td>20.2</td>\n",
       "      <td>7.8</td>\n",
       "      <td>3.8</td>\n",
       "    </tr>\n",
       "  </tbody>\n",
       "</table>\n",
       "</div>"
      ],
      "text/plain": [
       "                    Ad1    Ad2    Ad3    Ad4     Ad5    Ad6    Ad7     Ad8  \\\n",
       "Selection         705.0  387.0  186.0  345.0  6323.0  150.0  292.0  1170.0   \n",
       "Rewards           120.0   47.0    7.0   38.0  1675.0    1.0   27.0   236.0   \n",
       "Percent of Total   17.0   12.1    3.8   11.0    26.5    0.7    9.2    20.2   \n",
       "\n",
       "                    Ad9   Ad10  \n",
       "Selection         256.0  186.0  \n",
       "Rewards            20.0    7.0  \n",
       "Percent of Total    7.8    3.8  "
      ]
     },
     "execution_count": 145,
     "metadata": {},
     "output_type": "execute_result"
    }
   ],
   "source": [
    "result.transpose()"
   ]
  },
  {
   "cell_type": "markdown",
   "id": "19fc0a84",
   "metadata": {},
   "source": [
    "##### Visualisation"
   ]
  },
  {
   "cell_type": "code",
   "execution_count": 147,
   "id": "3e37c691",
   "metadata": {},
   "outputs": [
    {
     "data": {
      "image/png": "[encoded data removed]",
      "text/plain": [
       "<Figure size 640x480 with 1 Axes>"
      ]
     },
     "metadata": {},
     "output_type": "display_data"
    }
   ],
   "source": [
    "plt.hist(x = ads_selected)\n",
    "\n",
    "plt.title('Histogram of Ad Selections')\n",
    "plt.xlabel('Ads')\n",
    "plt.ylabel('Numer of Times Each Ad Was Selected')\n",
    "plt.show()"
   ]
  },
  {
   "cell_type": "markdown",
   "id": "11ffe5c1",
   "metadata": {},
   "source": [
    "Ad Number 5 (Ad with index 4)"
   ]
  },
  {
   "cell_type": "markdown",
   "id": "9c1246c3",
   "metadata": {},
   "source": [
    "## 2/ Thompson Sampling"
   ]
  },
  {
   "cell_type": "markdown",
   "id": "fae54f2f",
   "metadata": {},
   "source": [
    "## Model"
   ]
  },
  {
   "cell_type": "code",
   "execution_count": 148,
   "id": "4e6d66ed",
   "metadata": {},
   "outputs": [],
   "source": [
    "import random"
   ]
  },
  {
   "cell_type": "code",
   "execution_count": 149,
   "id": "ddcb9961",
   "metadata": {},
   "outputs": [],
   "source": [
    "N = 10000      \n",
    "d = 10\n",
    "\n",
    "ads_selected = []\n",
    "numbers_of_rewards_1 = [0] * d\n",
    "numbers_of_rewards_0 = [0] * d\n",
    "total_reward = 0"
   ]
  },
  {
   "cell_type": "code",
   "execution_count": 150,
   "id": "4dc3b39d",
   "metadata": {},
   "outputs": [],
   "source": [
    "for n in range(0, N) :\n",
    "    ad = 0\n",
    "    max_random = 0\n",
    "    for i in range(0, d) :\n",
    "        random_beta = random.betavariate(numbers_of_rewards_1[i] + 1, numbers_of_rewards_0[i] + 1)\n",
    "        if random_beta > max_random :\n",
    "            max_random = random_beta\n",
    "            ad = i\n",
    "            # No need for Else statement since we just keep the last ad number\n",
    "    ads_selected.append(ad)\n",
    "    reward = dataset.values[n, ad]\n",
    "    if reward == 1 :\n",
    "        numbers_of_rewards_1[ad] = numbers_of_rewards_1[ad] + 1\n",
    "    else :\n",
    "        numbers_of_rewards_0[ad] + numbers_of_rewards_0[ad] + 1\n",
    "    total_reward = total_reward + reward"
   ]
  },
  {
   "cell_type": "markdown",
   "id": "3145ba11",
   "metadata": {},
   "source": [
    "## Result"
   ]
  },
  {
   "cell_type": "code",
   "execution_count": 151,
   "id": "9cb0c449",
   "metadata": {},
   "outputs": [
    {
     "name": "stdout",
     "output_type": "stream",
     "text": [
      "[1, 151, 1, 75, 1868, 0, 23, 194, 21, 4]\n"
     ]
    }
   ],
   "source": [
    "print(numbers_of_rewards_1)"
   ]
  },
  {
   "cell_type": "code",
   "execution_count": 152,
   "id": "c9426861",
   "metadata": {},
   "outputs": [
    {
     "name": "stdout",
     "output_type": "stream",
     "text": [
      "[0, 0, 0, 0, 0, 0, 0, 0, 0, 0]\n"
     ]
    }
   ],
   "source": [
    "print(numbers_of_rewards_0)"
   ]
  },
  {
   "cell_type": "code",
   "execution_count": 153,
   "id": "1957f4b9",
   "metadata": {},
   "outputs": [
    {
     "name": "stdout",
     "output_type": "stream",
     "text": [
      "2338\n"
     ]
    }
   ],
   "source": [
    "print(total_reward)"
   ]
  },
  {
   "cell_type": "markdown",
   "id": "ec2f62ae",
   "metadata": {},
   "source": [
    "##### Visualisation"
   ]
  },
  {
   "cell_type": "code",
   "execution_count": 155,
   "id": "925fc144",
   "metadata": {},
   "outputs": [
    {
     "data": {
      "image/png": "[encoded data removed]",
      "text/plain": [
       "<Figure size 640x480 with 1 Axes>"
      ]
     },
     "metadata": {},
     "output_type": "display_data"
    }
   ],
   "source": [
    "plt.hist(x = ads_selected)\n",
    "\n",
    "plt.title('Histogram of Ad Selections')\n",
    "plt.xlabel('Ads')\n",
    "plt.ylabel('Numer of Times Each Ad Was Selected')\n",
    "plt.show()"
   ]
  },
  {
   "cell_type": "markdown",
   "id": "dfb47a59",
   "metadata": {},
   "source": [
    "Ad Number 5 (Ad with index 4)"
   ]
  }
 ],
 "metadata": {
  "kernelspec": {
   "display_name": "Python 3 (ipykernel)",
   "language": "python",
   "name": "python3"
  },
  "language_info": {
   "codemirror_mode": {
    "name": "ipython",
    "version": 3
   },
   "file_extension": ".py",
   "mimetype": "text/x-python",
   "name": "python",
   "nbconvert_exporter": "python",
   "pygments_lexer": "ipython3",
   "version": "3.11.5"
  }
 },
 "nbformat": 4,
 "nbformat_minor": 5
}
