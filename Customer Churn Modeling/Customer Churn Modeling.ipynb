{
 "cells": [
  {
   "cell_type": "markdown",
   "id": "0806f6d0",
   "metadata": {},
   "source": [
    "###### Credit : superdatascience.com"
   ]
  },
  {
   "cell_type": "markdown",
   "id": "ac438c2b",
   "metadata": {},
   "source": [
    "Business case : Classify possibly-churned customer using features of the data"
   ]
  },
  {
   "cell_type": "code",
   "execution_count": 1,
   "id": "4c8ce3de",
   "metadata": {},
   "outputs": [],
   "source": [
    "import numpy as np\n",
    "import pandas as pd\n",
    "import matplotlib.pyplot as plt\n",
    "import seaborn as sns\n",
    "%matplotlib inline\n",
    "import warnings\n",
    "warnings.filterwarnings('ignore')"
   ]
  },
  {
   "cell_type": "code",
   "execution_count": 3,
   "id": "c00b93cf",
   "metadata": {
    "scrolled": false
   },
   "outputs": [],
   "source": [
    "import tensorflow as tf"
   ]
  },
  {
   "cell_type": "markdown",
   "id": "27593972",
   "metadata": {},
   "source": [
    "## Data"
   ]
  },
  {
   "cell_type": "code",
   "execution_count": 4,
   "id": "b00b1cdc",
   "metadata": {},
   "outputs": [],
   "source": [
    "dataset = pd.read_csv('Churn_Modelling.csv')\n",
    "X = dataset.iloc[:, 3:-1].values\n",
    "y = dataset.iloc[:, -1].values"
   ]
  },
  {
   "cell_type": "markdown",
   "id": "d8f5baa6",
   "metadata": {},
   "source": [
    "## Preprocessing"
   ]
  },
  {
   "cell_type": "markdown",
   "id": "aeeca5b0",
   "metadata": {},
   "source": [
    "##### Missing Data"
   ]
  },
  {
   "cell_type": "code",
   "execution_count": 5,
   "id": "16da7d6a",
   "metadata": {},
   "outputs": [],
   "source": [
    "df = pd.DataFrame(data = X)"
   ]
  },
  {
   "cell_type": "code",
   "execution_count": 6,
   "id": "d0eee6d4",
   "metadata": {
    "scrolled": true
   },
   "outputs": [
    {
     "data": {
      "text/plain": [
       "0    0\n",
       "1    0\n",
       "2    0\n",
       "3    0\n",
       "4    0\n",
       "5    0\n",
       "6    0\n",
       "7    0\n",
       "8    0\n",
       "9    0\n",
       "dtype: int64"
      ]
     },
     "execution_count": 6,
     "metadata": {},
     "output_type": "execute_result"
    }
   ],
   "source": [
    "df.isnull().sum()"
   ]
  },
  {
   "cell_type": "markdown",
   "id": "957e63c8",
   "metadata": {},
   "source": [
    "##### Categorical Data Encoding - Gender"
   ]
  },
  {
   "cell_type": "code",
   "execution_count": 7,
   "id": "693c7c02",
   "metadata": {},
   "outputs": [
    {
     "name": "stdout",
     "output_type": "stream",
     "text": [
      "[[619 'France' 'Female' ... 1 1 101348.88]\n",
      " [608 'Spain' 'Female' ... 0 1 112542.58]\n",
      " [502 'France' 'Female' ... 1 0 113931.57]\n",
      " ...\n",
      " [709 'France' 'Female' ... 0 1 42085.58]\n",
      " [772 'Germany' 'Male' ... 1 0 92888.52]\n",
      " [792 'France' 'Female' ... 1 0 38190.78]]\n"
     ]
    }
   ],
   "source": [
    "print(X)"
   ]
  },
  {
   "cell_type": "code",
   "execution_count": 8,
   "id": "a41c84a4",
   "metadata": {},
   "outputs": [],
   "source": [
    "from sklearn.preprocessing import LabelEncoder\n",
    "le = LabelEncoder()\n",
    "X[:, 2] = le.fit_transform(X[:, 2])"
   ]
  },
  {
   "cell_type": "markdown",
   "id": "203a9684",
   "metadata": {},
   "source": [
    "##### Categorical Data Encoding - Country"
   ]
  },
  {
   "cell_type": "code",
   "execution_count": 9,
   "id": "32bf2f35",
   "metadata": {},
   "outputs": [],
   "source": [
    "from sklearn.compose import ColumnTransformer\n",
    "from sklearn.preprocessing import OneHotEncoder\n",
    "ct = ColumnTransformer(transformers = [('encoder', OneHotEncoder(), [1])], remainder = 'passthrough')\n",
    "X = np.array(ct.fit_transform(X))"
   ]
  },
  {
   "cell_type": "code",
   "execution_count": 10,
   "id": "47e6a256",
   "metadata": {},
   "outputs": [
    {
     "name": "stdout",
     "output_type": "stream",
     "text": [
      "[[1.0 0.0 0.0 619 0 42 2 0.0 1 1 1 101348.88]\n",
      " [0.0 0.0 1.0 608 0 41 1 83807.86 1 0 1 112542.58]]\n"
     ]
    }
   ],
   "source": [
    "print(X[:2, :])"
   ]
  },
  {
   "cell_type": "markdown",
   "id": "76acdf91",
   "metadata": {},
   "source": [
    "##### Set Split"
   ]
  },
  {
   "cell_type": "code",
   "execution_count": 11,
   "id": "53d9f356",
   "metadata": {},
   "outputs": [],
   "source": [
    "from sklearn.model_selection import train_test_split\n",
    "X_train, X_test, y_train, y_test = train_test_split(X, y, test_size = 0.2, random_state = 0)"
   ]
  },
  {
   "cell_type": "markdown",
   "id": "88c71257",
   "metadata": {},
   "source": [
    "##### Feature Scaling"
   ]
  },
  {
   "cell_type": "code",
   "execution_count": 12,
   "id": "9098cd88",
   "metadata": {},
   "outputs": [],
   "source": [
    "from sklearn.preprocessing import StandardScaler\n",
    "sc = StandardScaler()\n",
    "X_train = sc.fit_transform(X_train)\n",
    "X_test = sc.transform(X_test)"
   ]
  },
  {
   "cell_type": "markdown",
   "id": "4506052b",
   "metadata": {},
   "source": [
    "## Artificial Neural Network"
   ]
  },
  {
   "cell_type": "markdown",
   "id": "c9ee0ad5",
   "metadata": {},
   "source": [
    "##### Model"
   ]
  },
  {
   "cell_type": "code",
   "execution_count": 14,
   "id": "331c591a",
   "metadata": {},
   "outputs": [],
   "source": [
    "ann = tf.keras.models.Sequential()\n",
    "\n",
    "ann.add(tf.keras.layers.Dense(units = 6, activation = 'relu')) \n",
    "ann.add(tf.keras.layers.Dense(units = 6, activation = 'relu'))\n",
    "\n",
    "ann.add(tf.keras.layers.Dense(units = 1, activation = 'sigmoid')) \n",
    "\n",
    "ann.compile(optimizer = 'adam', loss = 'binary_crossentropy', metrics = ['accuracy'])"
   ]
  },
  {
   "cell_type": "markdown",
   "id": "09960d71",
   "metadata": {},
   "source": [
    "##### Training"
   ]
  },
  {
   "cell_type": "code",
   "execution_count": 16,
   "id": "f3177661",
   "metadata": {
    "scrolled": true
   },
   "outputs": [
    {
     "name": "stdout",
     "output_type": "stream",
     "text": [
      "Epoch 1/100\n",
      "250/250 [==============================] - 0s 838us/step - loss: 0.4142 - accuracy: 0.8329\n",
      "Epoch 2/100\n",
      "250/250 [==============================] - 0s 878us/step - loss: 0.4116 - accuracy: 0.8328\n",
      "Epoch 3/100\n",
      "250/250 [==============================] - 0s 892us/step - loss: 0.4096 - accuracy: 0.8328\n",
      "Epoch 4/100\n",
      "250/250 [==============================] - 0s 914us/step - loss: 0.4074 - accuracy: 0.8332\n",
      "Epoch 5/100\n",
      "250/250 [==============================] - 0s 711us/step - loss: 0.4050 - accuracy: 0.8326\n",
      "Epoch 6/100\n",
      "250/250 [==============================] - 0s 632us/step - loss: 0.4022 - accuracy: 0.8340\n",
      "Epoch 7/100\n",
      "250/250 [==============================] - 0s 637us/step - loss: 0.3990 - accuracy: 0.8345\n",
      "Epoch 8/100\n",
      "250/250 [==============================] - 0s 640us/step - loss: 0.3953 - accuracy: 0.8374\n",
      "Epoch 9/100\n",
      "250/250 [==============================] - 0s 627us/step - loss: 0.3914 - accuracy: 0.8382\n",
      "Epoch 10/100\n",
      "250/250 [==============================] - 0s 619us/step - loss: 0.3872 - accuracy: 0.8404\n",
      "Epoch 11/100\n",
      "250/250 [==============================] - 0s 625us/step - loss: 0.3829 - accuracy: 0.8420\n",
      "Epoch 12/100\n",
      "250/250 [==============================] - 0s 627us/step - loss: 0.3789 - accuracy: 0.8438\n",
      "Epoch 13/100\n",
      "250/250 [==============================] - 0s 627us/step - loss: 0.3746 - accuracy: 0.8451\n",
      "Epoch 14/100\n",
      "250/250 [==============================] - 0s 625us/step - loss: 0.3697 - accuracy: 0.8497\n",
      "Epoch 15/100\n",
      "250/250 [==============================] - 0s 628us/step - loss: 0.3650 - accuracy: 0.8495\n",
      "Epoch 16/100\n",
      "250/250 [==============================] - 0s 634us/step - loss: 0.3607 - accuracy: 0.8525\n",
      "Epoch 17/100\n",
      "250/250 [==============================] - 0s 639us/step - loss: 0.3571 - accuracy: 0.8524\n",
      "Epoch 18/100\n",
      "250/250 [==============================] - 0s 635us/step - loss: 0.3541 - accuracy: 0.8541\n",
      "Epoch 19/100\n",
      "250/250 [==============================] - 0s 641us/step - loss: 0.3519 - accuracy: 0.8559\n",
      "Epoch 20/100\n",
      "250/250 [==============================] - 0s 628us/step - loss: 0.3503 - accuracy: 0.8570\n",
      "Epoch 21/100\n",
      "250/250 [==============================] - 0s 625us/step - loss: 0.3484 - accuracy: 0.8586\n",
      "Epoch 22/100\n",
      "250/250 [==============================] - 0s 620us/step - loss: 0.3477 - accuracy: 0.8591\n",
      "Epoch 23/100\n",
      "250/250 [==============================] - 0s 617us/step - loss: 0.3471 - accuracy: 0.8593\n",
      "Epoch 24/100\n",
      "250/250 [==============================] - 0s 614us/step - loss: 0.3467 - accuracy: 0.8591\n",
      "Epoch 25/100\n",
      "250/250 [==============================] - 0s 625us/step - loss: 0.3457 - accuracy: 0.8586\n",
      "Epoch 26/100\n",
      "250/250 [==============================] - 0s 635us/step - loss: 0.3454 - accuracy: 0.8591\n",
      "Epoch 27/100\n",
      "250/250 [==============================] - 0s 618us/step - loss: 0.3446 - accuracy: 0.8593\n",
      "Epoch 28/100\n",
      "250/250 [==============================] - 0s 620us/step - loss: 0.3444 - accuracy: 0.8597\n",
      "Epoch 29/100\n",
      "250/250 [==============================] - 0s 623us/step - loss: 0.3438 - accuracy: 0.8594\n",
      "Epoch 30/100\n",
      "250/250 [==============================] - 0s 621us/step - loss: 0.3438 - accuracy: 0.8599\n",
      "Epoch 31/100\n",
      "250/250 [==============================] - 0s 625us/step - loss: 0.3438 - accuracy: 0.8597\n",
      "Epoch 32/100\n",
      "250/250 [==============================] - 0s 626us/step - loss: 0.3434 - accuracy: 0.8591\n",
      "Epoch 33/100\n",
      "250/250 [==============================] - 0s 626us/step - loss: 0.3432 - accuracy: 0.8614\n",
      "Epoch 34/100\n",
      "250/250 [==============================] - 0s 627us/step - loss: 0.3428 - accuracy: 0.8620\n",
      "Epoch 35/100\n",
      "250/250 [==============================] - 0s 625us/step - loss: 0.3424 - accuracy: 0.8604\n",
      "Epoch 36/100\n",
      "250/250 [==============================] - 0s 618us/step - loss: 0.3426 - accuracy: 0.8602\n",
      "Epoch 37/100\n",
      "250/250 [==============================] - 0s 615us/step - loss: 0.3421 - accuracy: 0.8608\n",
      "Epoch 38/100\n",
      "250/250 [==============================] - 0s 629us/step - loss: 0.3421 - accuracy: 0.8604\n",
      "Epoch 39/100\n",
      "250/250 [==============================] - 0s 622us/step - loss: 0.3421 - accuracy: 0.8610\n",
      "Epoch 40/100\n",
      "250/250 [==============================] - 0s 617us/step - loss: 0.3418 - accuracy: 0.8615\n",
      "Epoch 41/100\n",
      "250/250 [==============================] - 0s 622us/step - loss: 0.3415 - accuracy: 0.8601\n",
      "Epoch 42/100\n",
      "250/250 [==============================] - 0s 621us/step - loss: 0.3415 - accuracy: 0.8611\n",
      "Epoch 43/100\n",
      "250/250 [==============================] - 0s 619us/step - loss: 0.3411 - accuracy: 0.8621\n",
      "Epoch 44/100\n",
      "250/250 [==============================] - 0s 619us/step - loss: 0.3409 - accuracy: 0.8624\n",
      "Epoch 45/100\n",
      "250/250 [==============================] - 0s 625us/step - loss: 0.3407 - accuracy: 0.8624\n",
      "Epoch 46/100\n",
      "250/250 [==============================] - 0s 625us/step - loss: 0.3405 - accuracy: 0.8620\n",
      "Epoch 47/100\n",
      "250/250 [==============================] - 0s 625us/step - loss: 0.3402 - accuracy: 0.8626\n",
      "Epoch 48/100\n",
      "250/250 [==============================] - 0s 629us/step - loss: 0.3407 - accuracy: 0.8626\n",
      "Epoch 49/100\n",
      "250/250 [==============================] - 0s 625us/step - loss: 0.3408 - accuracy: 0.8624\n",
      "Epoch 50/100\n",
      "250/250 [==============================] - 0s 617us/step - loss: 0.3404 - accuracy: 0.8624\n",
      "Epoch 51/100\n",
      "250/250 [==============================] - 0s 641us/step - loss: 0.3401 - accuracy: 0.8624\n",
      "Epoch 52/100\n",
      "250/250 [==============================] - 0s 619us/step - loss: 0.3400 - accuracy: 0.8629\n",
      "Epoch 53/100\n",
      "250/250 [==============================] - 0s 623us/step - loss: 0.3401 - accuracy: 0.8621\n",
      "Epoch 54/100\n",
      "250/250 [==============================] - 0s 652us/step - loss: 0.3400 - accuracy: 0.8621\n",
      "Epoch 55/100\n",
      "250/250 [==============================] - 0s 623us/step - loss: 0.3396 - accuracy: 0.8629\n",
      "Epoch 56/100\n",
      "250/250 [==============================] - 0s 629us/step - loss: 0.3394 - accuracy: 0.8644\n",
      "Epoch 57/100\n",
      "250/250 [==============================] - 0s 617us/step - loss: 0.3392 - accuracy: 0.8627\n",
      "Epoch 58/100\n",
      "250/250 [==============================] - 0s 625us/step - loss: 0.3392 - accuracy: 0.8636\n",
      "Epoch 59/100\n",
      "250/250 [==============================] - 0s 636us/step - loss: 0.3392 - accuracy: 0.8619\n",
      "Epoch 60/100\n",
      "250/250 [==============================] - 0s 618us/step - loss: 0.3392 - accuracy: 0.8609\n",
      "Epoch 61/100\n",
      "250/250 [==============================] - 0s 624us/step - loss: 0.3389 - accuracy: 0.8620\n",
      "Epoch 62/100\n",
      "250/250 [==============================] - 0s 630us/step - loss: 0.3389 - accuracy: 0.8624\n",
      "Epoch 63/100\n",
      "250/250 [==============================] - 0s 625us/step - loss: 0.3389 - accuracy: 0.8621\n",
      "Epoch 64/100\n",
      "250/250 [==============================] - 0s 631us/step - loss: 0.3388 - accuracy: 0.8644\n",
      "Epoch 65/100\n",
      "250/250 [==============================] - 0s 641us/step - loss: 0.3384 - accuracy: 0.8619\n",
      "Epoch 66/100\n",
      "250/250 [==============================] - 0s 641us/step - loss: 0.3389 - accuracy: 0.8629\n",
      "Epoch 67/100\n",
      "250/250 [==============================] - 0s 624us/step - loss: 0.3384 - accuracy: 0.8635\n",
      "Epoch 68/100\n",
      "250/250 [==============================] - 0s 625us/step - loss: 0.3384 - accuracy: 0.8621\n",
      "Epoch 69/100\n",
      "250/250 [==============================] - 0s 642us/step - loss: 0.3383 - accuracy: 0.8634\n",
      "Epoch 70/100\n",
      "250/250 [==============================] - 0s 624us/step - loss: 0.3381 - accuracy: 0.8631\n",
      "Epoch 71/100\n",
      "250/250 [==============================] - 0s 624us/step - loss: 0.3383 - accuracy: 0.8619\n",
      "Epoch 72/100\n",
      "250/250 [==============================] - 0s 619us/step - loss: 0.3382 - accuracy: 0.8643\n",
      "Epoch 73/100\n",
      "250/250 [==============================] - 0s 633us/step - loss: 0.3379 - accuracy: 0.8625\n",
      "Epoch 74/100\n",
      "250/250 [==============================] - 0s 635us/step - loss: 0.3381 - accuracy: 0.8639\n",
      "Epoch 75/100\n",
      "250/250 [==============================] - 0s 625us/step - loss: 0.3378 - accuracy: 0.8633\n",
      "Epoch 76/100\n",
      "250/250 [==============================] - 0s 625us/step - loss: 0.3374 - accuracy: 0.8630\n",
      "Epoch 77/100\n",
      "250/250 [==============================] - 0s 634us/step - loss: 0.3382 - accuracy: 0.8641\n",
      "Epoch 78/100\n",
      "250/250 [==============================] - 0s 625us/step - loss: 0.3376 - accuracy: 0.8640\n",
      "Epoch 79/100\n"
     ]
    },
    {
     "name": "stdout",
     "output_type": "stream",
     "text": [
      "250/250 [==============================] - 0s 627us/step - loss: 0.3380 - accuracy: 0.8633\n",
      "Epoch 80/100\n",
      "250/250 [==============================] - 0s 642us/step - loss: 0.3379 - accuracy: 0.8630\n",
      "Epoch 81/100\n",
      "250/250 [==============================] - 0s 626us/step - loss: 0.3380 - accuracy: 0.8634\n",
      "Epoch 82/100\n",
      "250/250 [==============================] - 0s 620us/step - loss: 0.3375 - accuracy: 0.8637\n",
      "Epoch 83/100\n",
      "250/250 [==============================] - 0s 621us/step - loss: 0.3377 - accuracy: 0.8615\n",
      "Epoch 84/100\n",
      "250/250 [==============================] - 0s 627us/step - loss: 0.3372 - accuracy: 0.8618\n",
      "Epoch 85/100\n",
      "250/250 [==============================] - 0s 621us/step - loss: 0.3372 - accuracy: 0.8634\n",
      "Epoch 86/100\n",
      "250/250 [==============================] - 0s 624us/step - loss: 0.3374 - accuracy: 0.8635\n",
      "Epoch 87/100\n",
      "250/250 [==============================] - 0s 623us/step - loss: 0.3373 - accuracy: 0.8640\n",
      "Epoch 88/100\n",
      "250/250 [==============================] - 0s 620us/step - loss: 0.3375 - accuracy: 0.8634\n",
      "Epoch 89/100\n",
      "250/250 [==============================] - 0s 624us/step - loss: 0.3372 - accuracy: 0.8644\n",
      "Epoch 90/100\n",
      "250/250 [==============================] - 0s 627us/step - loss: 0.3374 - accuracy: 0.8631\n",
      "Epoch 91/100\n",
      "250/250 [==============================] - 0s 621us/step - loss: 0.3369 - accuracy: 0.8640\n",
      "Epoch 92/100\n",
      "250/250 [==============================] - 0s 623us/step - loss: 0.3370 - accuracy: 0.8629\n",
      "Epoch 93/100\n",
      "250/250 [==============================] - 0s 626us/step - loss: 0.3371 - accuracy: 0.8633\n",
      "Epoch 94/100\n",
      "250/250 [==============================] - 0s 632us/step - loss: 0.3368 - accuracy: 0.8626\n",
      "Epoch 95/100\n",
      "250/250 [==============================] - 0s 630us/step - loss: 0.3365 - accuracy: 0.8644\n",
      "Epoch 96/100\n",
      "250/250 [==============================] - 0s 626us/step - loss: 0.3368 - accuracy: 0.8646\n",
      "Epoch 97/100\n",
      "250/250 [==============================] - 0s 625us/step - loss: 0.3368 - accuracy: 0.8643\n",
      "Epoch 98/100\n",
      "250/250 [==============================] - 0s 626us/step - loss: 0.3369 - accuracy: 0.8625\n",
      "Epoch 99/100\n",
      "250/250 [==============================] - 0s 621us/step - loss: 0.3366 - accuracy: 0.8629\n",
      "Epoch 100/100\n",
      "250/250 [==============================] - 0s 623us/step - loss: 0.3369 - accuracy: 0.8637\n"
     ]
    },
    {
     "data": {
      "text/plain": [
       "<keras.src.callbacks.History at 0x214036cec10>"
      ]
     },
     "execution_count": 16,
     "metadata": {},
     "output_type": "execute_result"
    }
   ],
   "source": [
    "ann.fit(X_train, y_train, batch_size = 32, epochs = 100)"
   ]
  },
  {
   "cell_type": "markdown",
   "id": "77dee6b8",
   "metadata": {},
   "source": [
    "##### Single Observation Prediction"
   ]
  },
  {
   "cell_type": "markdown",
   "id": "9dace601",
   "metadata": {},
   "source": [
    "###### Predict whether the customer with the following informations will leave the bank :\n",
    "* Geography : France\n",
    "* Credit Score : 600\n",
    "* Gender : Male\n",
    "* Age : 40 yrs old\n",
    "* Tenure : 3 years\n",
    "* Balance : usd 60,000\n",
    "* Number of Products : 2\n",
    "* Does this customer have a credit card? Yes\n",
    "* Is this customer an active member? Yes\n",
    "* Estimated Salary : $ 50,000"
   ]
  },
  {
   "cell_type": "code",
   "execution_count": 17,
   "id": "5283151a",
   "metadata": {
    "scrolled": true
   },
   "outputs": [
    {
     "name": "stdout",
     "output_type": "stream",
     "text": [
      "1/1 [==============================] - 0s 74ms/step\n",
      "[[0.03777396]]\n"
     ]
    }
   ],
   "source": [
    "print(ann.predict(sc.transform([[1, 0, 0, 600, 1, 40, 3, 60000, 2, 1, 1, 50000]])))     # We get probability (sigmoid)"
   ]
  },
  {
   "cell_type": "code",
   "execution_count": 18,
   "id": "ffbd5a82",
   "metadata": {},
   "outputs": [
    {
     "name": "stdout",
     "output_type": "stream",
     "text": [
      "1/1 [==============================] - 0s 15ms/step\n",
      "[[False]]\n"
     ]
    }
   ],
   "source": [
    "print(ann.predict(sc.transform([[1, 0, 0, 600, 1, 40, 3, 60000, 2, 1, 1, 50000]])) > 0.5)\n",
    "# If you want a boolean value, 0.5 is a assigned threshold\n",
    "# The customer will probabily stay"
   ]
  },
  {
   "cell_type": "markdown",
   "id": "6591ff35",
   "metadata": {},
   "source": [
    "##### Prediction"
   ]
  },
  {
   "cell_type": "code",
   "execution_count": 19,
   "id": "f4877ca5",
   "metadata": {
    "scrolled": false
   },
   "outputs": [
    {
     "name": "stdout",
     "output_type": "stream",
     "text": [
      "63/63 [==============================] - 0s 654us/step\n",
      "[[0 0]\n",
      " [0 1]\n",
      " [0 0]\n",
      " ...\n",
      " [0 0]\n",
      " [0 0]\n",
      " [0 0]]\n"
     ]
    }
   ],
   "source": [
    "y_pred = ann.predict(X_test)\n",
    "y_pred = (y_pred > 0.5)\n",
    "print(np.concatenate((y_pred.reshape(len(y_pred), 1), y_test.reshape(len(y_test), 1)), 1))"
   ]
  },
  {
   "cell_type": "markdown",
   "id": "a19c13ef",
   "metadata": {},
   "source": [
    "##### Evaluation"
   ]
  },
  {
   "cell_type": "code",
   "execution_count": 20,
   "id": "24f076ae",
   "metadata": {},
   "outputs": [
    {
     "name": "stdout",
     "output_type": "stream",
     "text": [
      "[[1513   82]\n",
      " [ 195  210]]\n"
     ]
    },
    {
     "data": {
      "text/plain": [
       "0.8615"
      ]
     },
     "execution_count": 20,
     "metadata": {},
     "output_type": "execute_result"
    }
   ],
   "source": [
    "from sklearn.metrics import confusion_matrix, accuracy_score\n",
    "cm = confusion_matrix(y_test, y_pred)\n",
    "print(cm)\n",
    "accuracy_score(y_test, y_pred)"
   ]
  }
 ],
 "metadata": {
  "kernelspec": {
   "display_name": "Python 3 (ipykernel)",
   "language": "python",
   "name": "python3"
  },
  "language_info": {
   "codemirror_mode": {
    "name": "ipython",
    "version": 3
   },
   "file_extension": ".py",
   "mimetype": "text/x-python",
   "name": "python",
   "nbconvert_exporter": "python",
   "pygments_lexer": "ipython3",
   "version": "3.11.5"
  }
 },
 "nbformat": 4,
 "nbformat_minor": 5
}
